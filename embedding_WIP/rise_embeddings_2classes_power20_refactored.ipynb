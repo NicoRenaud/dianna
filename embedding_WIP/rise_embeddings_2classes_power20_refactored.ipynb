{
  "cells": [
    {
      "cell_type": "markdown",
      "metadata": {
        "id": "xa4Ms-Eb210Y"
      },
      "source": [
        "# \"Fourth\" attempt at building a RISE explainer for embedded spaces\n",
        "\n",
        "After going back to the previous notebooks, we noticed that we had left out the power multiplication factor 20 in the exponential that initially gave us our most stable results (also leading to all the other attempts, because they seemed reasonable). After trying it out again, this seemed to really improve results.\n",
        "\n",
        "In this notebook we revisit this factor. We add it in the explain method and see what the results are on different images and we vary the value of the factor to find a optimum."
      ]
    },
    {
      "cell_type": "code",
      "execution_count": 1,
      "metadata": {
        "id": "K5K2wEbvkipE"
      },
      "outputs": [],
      "source": [
        "from tensorflow.keras.applications.resnet50 import ResNet50, preprocess_input, decode_predictions\n",
        "from keras.preprocessing import image\n",
        "from tensorflow.keras import backend as K\n",
        "from skimage.transform import resize\n",
        "from requests import get\n",
        "import os\n",
        "from urllib.parse import urlparse\n",
        "import numpy as np\n",
        "from matplotlib import pyplot as plt\n",
        "from tqdm import tqdm\n",
        "\n",
        "import random\n",
        "import tensorflow as tf\n",
        "from keras import backend as K\n",
        "\n",
        "\n",
        "class Model():\n",
        "    def __init__(self):\n",
        "        K.set_learning_phase(0)\n",
        "        self.model = ResNet50()\n",
        "        self.input_size = (224, 224)\n",
        "        \n",
        "    def run_on_batch(self, x):\n",
        "        return self.model.predict(x)\n",
        "\n",
        "\n",
        "def load_img(path, target_size):\n",
        "    img = image.load_img(path, target_size=target_size)\n",
        "    x = image.img_to_array(img)\n",
        "    x = np.expand_dims(x, axis=0)\n",
        "    x = preprocess_input(x)\n",
        "    return img, x\n",
        "\n",
        "\n",
        "\n",
        "\n",
        "\n",
        "def class_name(idx):\n",
        "    return decode_predictions(np.eye(1, 1000, idx))[0][0][1]\n",
        "\n",
        "\n",
        "def download(url):\n",
        "    filename = os.path.basename(urlparse(url).path)\n",
        "    os.system(f\"wget {url}\")\n",
        "    return filename\n",
        "\n",
        "\n",
        "def plot_explainer(image, saliency, ax=None, vmin=None, vmax=None, title=\"Explanation\",\n",
        "                   do_cbar=True, add_value_limits_to_title=False, **kwargs):\n",
        "    if ax is None:\n",
        "        fig, ax = plt.subplots(1, 1)\n",
        "    else:\n",
        "        fig = ax.get_figure()\n",
        "    if add_value_limits_to_title:\n",
        "        if vmin is None:\n",
        "            vmin_title = saliency.min()\n",
        "        else:\n",
        "            vmin_title = vmin\n",
        "        if vmax is None:\n",
        "            vmax_title = saliency.max()\n",
        "        else:\n",
        "            vmax_title = vmax\n",
        "        title = f\"{title} vmin = {vmin_title:.2f}, vmax = {vmax_title:.2f}\"\n",
        "    ax.set_title(title)\n",
        "    ax.axis('off')\n",
        "    ax.imshow(image)\n",
        "    im = ax.imshow(saliency, cmap='jet', alpha=0.5, vmin=vmin, vmax=vmax)\n",
        "    if do_cbar:\n",
        "      plt.colorbar(im, ax=ax)      \n",
        "    return fig\n",
        "\n",
        "\n",
        "# from https://stackoverflow.com/a/52897216/1199693\n",
        "def set_all_the_seeds(seed_value=0):\n",
        "    os.environ['PYTHONHASHSEED']=str(seed_value)\n",
        "\n",
        "    random.seed(seed_value)\n",
        "\n",
        "    np.random.seed(seed_value)\n",
        "\n",
        "    tf.random.set_seed(seed_value)\n",
        "\n",
        "    session_conf = tf.compat.v1.ConfigProto(intra_op_parallelism_threads=1, inter_op_parallelism_threads=1)\n",
        "    sess = tf.compat.v1.Session(graph=tf.compat.v1.get_default_graph(), config=session_conf)\n",
        "    tf.compat.v1.keras.backend.set_session(sess)"
      ]
    },
    {
      "cell_type": "code",
      "execution_count": 2,
      "metadata": {
        "id": "zueOuXjx210g"
      },
      "outputs": [],
      "source": [
        "# import importlib\n",
        "# importlib.reload(embeddings)"
      ]
    },
    {
      "cell_type": "code",
      "execution_count": 3,
      "metadata": {
        "colab": {
          "base_uri": "https://localhost:8080/"
        },
        "id": "pQIA8s_Ck5iH",
        "outputId": "60f0cbf2-2cb1-4a4f-8f99-9bc09608137d"
      },
      "outputs": [
        {
          "name": "stderr",
          "output_type": "stream",
          "text": [
            "C:\\Users\\ChristiaanMeijer\\anaconda3\\envs\\dianna-x\\lib\\site-packages\\keras\\backend.py:450: UserWarning: `tf.keras.backend.set_learning_phase` is deprecated and will be removed after 2020-10-11. To update it, simply pass a True/False value to the `training` argument of the `__call__` method of your layer or model.\n",
            "  warnings.warn('`tf.keras.backend.set_learning_phase` is deprecated and '\n"
          ]
        }
      ],
      "source": [
        "model = Model()\n"
      ]
    },
    {
      "cell_type": "code",
      "execution_count": 7,
      "metadata": {
        "id": "7FdcQLW9rV9t"
      },
      "outputs": [
        {
          "name": "stdout",
          "output_type": "stream",
          "text": [
            "(1, 224, 224, 3)\n"
          ]
        }
      ],
      "source": [
        "# _urls = ['https://www.publicdomainpictures.net/pictures/50000/velka/liten-fluga.jpg',\n",
        "#          'https://publicdomainpictures.net/pictures/140000/velka/bee-painting.jpg']\n",
        "# _filenames = [download(url) for url in _urls]\n",
        "\n",
        "_filenames = ['liten-fluga.jpg', 'bee-painting.jpg']\n",
        "\n",
        "img_fly, x_fly = load_img(_filenames[0], model.input_size)\n",
        "img_bee, x_bee = load_img(_filenames[1], model.input_size)\n",
        "print(x_bee.shape)"
      ]
    },
    {
      "cell_type": "code",
      "execution_count": 8,
      "metadata": {
        "colab": {
          "base_uri": "https://localhost:8080/",
          "height": 564
        },
        "id": "Yq3OiR3Px_wB",
        "outputId": "7f48b623-3b3e-49a0-f572-a685b7399e51"
      },
      "outputs": [
        {
          "ename": "ValueError",
          "evalue": "high <= 0",
          "output_type": "error",
          "traceback": [
            "\u001b[1;31m---------------------------------------------------------------------------\u001b[0m",
            "\u001b[1;31mValueError\u001b[0m                                Traceback (most recent call last)",
            "\u001b[1;32mc:\\Users\\ChristiaanMeijer\\Documents\\dianna\\dianna\\embedding_WIP\\rise_embeddings_2classes_power20_refactored.ipynb Cell 6'\u001b[0m in \u001b[0;36m<module>\u001b[1;34m\u001b[0m\n\u001b[0;32m      <a href='vscode-notebook-cell:/c%3A/Users/ChristiaanMeijer/Documents/dianna/dianna/embedding_WIP/rise_embeddings_2classes_power20_refactored.ipynb#ch0000033?line=4'>5</a>\u001b[0m embedded_reference \u001b[39m=\u001b[39m model\u001b[39m.\u001b[39mrun_on_batch(x_fly)\n\u001b[0;32m      <a href='vscode-notebook-cell:/c%3A/Users/ChristiaanMeijer/Documents/dianna/dianna/embedding_WIP/rise_embeddings_2classes_power20_refactored.ipynb#ch0000033?line=5'>6</a>\u001b[0m \u001b[39mfor\u001b[39;00m ix, percentage \u001b[39min\u001b[39;00m \u001b[39menumerate\u001b[39m(percentages):\n\u001b[1;32m----> <a href='vscode-notebook-cell:/c%3A/Users/ChristiaanMeijer/Documents/dianna/dianna/embedding_WIP/rise_embeddings_2classes_power20_refactored.ipynb#ch0000033?line=6'>7</a>\u001b[0m   _sal \u001b[39m=\u001b[39m dianna\u001b[39m.\u001b[39;49mexplain_image_distance(model\u001b[39m.\u001b[39;49mrun_on_batch, x_bee[\u001b[39m1\u001b[39;49m:], embedded_reference, p_keep_lowest_distances\u001b[39m=\u001b[39;49mpercentage\u001b[39m/\u001b[39;49m\u001b[39m100\u001b[39;49m, axis_labels\u001b[39m=\u001b[39;49m{\u001b[39m3\u001b[39;49m: \u001b[39m'\u001b[39;49m\u001b[39mchannels\u001b[39;49m\u001b[39m'\u001b[39;49m})\n\u001b[0;32m      <a href='vscode-notebook-cell:/c%3A/Users/ChristiaanMeijer/Documents/dianna/dianna/embedding_WIP/rise_embeddings_2classes_power20_refactored.ipynb#ch0000033?line=7'>8</a>\u001b[0m   \u001b[39m# explain2(model, x_bee, x_fly, _masks, preds=_masked_predictions, keep_lowest_distance_masks_fraction=percentage/100)\u001b[39;00m\n\u001b[0;32m      <a href='vscode-notebook-cell:/c%3A/Users/ChristiaanMeijer/Documents/dianna/dianna/embedding_WIP/rise_embeddings_2classes_power20_refactored.ipynb#ch0000033?line=8'>9</a>\u001b[0m   plot_explainer(img_bee, _sal[\u001b[39m0\u001b[39m], ax\u001b[39m=\u001b[39max\u001b[39m.\u001b[39mflatten()[ix], title\u001b[39m=\u001b[39mpercentage, add_value_limits_to_title\u001b[39m=\u001b[39m\u001b[39mTrue\u001b[39;00m, do_cbar\u001b[39m=\u001b[39m\u001b[39mFalse\u001b[39;00m)\n",
            "File \u001b[1;32mc:\\users\\christiaanmeijer\\documents\\dianna\\dianna\\dianna\\__init__.py:83\u001b[0m, in \u001b[0;36mexplain_image_distance\u001b[1;34m(model_or_function, input_data, embedded_reference, **kwargs)\u001b[0m\n\u001b[0;32m     <a href='file:///c%3A/users/christiaanmeijer/documents/dianna/dianna/dianna/__init__.py?line=80'>81</a>\u001b[0m explainer \u001b[39m=\u001b[39m DistanceExplainer(\u001b[39m*\u001b[39m\u001b[39m*\u001b[39mmethod_kwargs)\n\u001b[0;32m     <a href='file:///c%3A/users/christiaanmeijer/documents/dianna/dianna/dianna/__init__.py?line=81'>82</a>\u001b[0m explain_distance_kwargs \u001b[39m=\u001b[39m utils\u001b[39m.\u001b[39mget_kwargs_applicable_to_function(explainer\u001b[39m.\u001b[39mexplain_image_distance, kwargs)\n\u001b[1;32m---> <a href='file:///c%3A/users/christiaanmeijer/documents/dianna/dianna/dianna/__init__.py?line=82'>83</a>\u001b[0m \u001b[39mreturn\u001b[39;00m explainer\u001b[39m.\u001b[39mexplain_image_distance(model_or_function, input_data, embedded_reference, \u001b[39m*\u001b[39m\u001b[39m*\u001b[39mexplain_distance_kwargs)\n",
            "File \u001b[1;32mc:\\users\\christiaanmeijer\\documents\\dianna\\dianna\\dianna\\methods\\distance.py:49\u001b[0m, in \u001b[0;36mDistanceExplainer.explain_image_distance\u001b[1;34m(self, model_or_function, input_data, embedded_reference, **explain_distance_kwargs)\u001b[0m\n\u001b[0;32m     <a href='file:///c%3A/users/christiaanmeijer/documents/dianna/dianna/dianna/methods/distance.py?line=46'>47</a>\u001b[0m img_shape \u001b[39m=\u001b[39m input_data\u001b[39m.\u001b[39mshape[\u001b[39m1\u001b[39m:\u001b[39m3\u001b[39m]\n\u001b[0;32m     <a href='file:///c%3A/users/christiaanmeijer/documents/dianna/dianna/dianna/methods/distance.py?line=47'>48</a>\u001b[0m \u001b[39m# Expose masks for to make user inspection possible\u001b[39;00m\n\u001b[1;32m---> <a href='file:///c%3A/users/christiaanmeijer/documents/dianna/dianna/dianna/methods/distance.py?line=48'>49</a>\u001b[0m \u001b[39mself\u001b[39m\u001b[39m.\u001b[39mmasks \u001b[39m=\u001b[39m generate_masks_for_images(img_shape, active_p_keep, \u001b[39mself\u001b[39;49m\u001b[39m.\u001b[39;49mn_masks, \u001b[39mself\u001b[39;49m\u001b[39m.\u001b[39;49mfeature_res)\n\u001b[0;32m     <a href='file:///c%3A/users/christiaanmeijer/documents/dianna/dianna/dianna/methods/distance.py?line=50'>51</a>\u001b[0m \u001b[39m# Make sure multiplication is being done for correct axes\u001b[39;00m\n\u001b[0;32m     <a href='file:///c%3A/users/christiaanmeijer/documents/dianna/dianna/dianna/methods/distance.py?line=51'>52</a>\u001b[0m masked \u001b[39m=\u001b[39m input_data \u001b[39m*\u001b[39m \u001b[39mself\u001b[39m\u001b[39m.\u001b[39mmasks\n",
            "File \u001b[1;32mc:\\users\\christiaanmeijer\\documents\\dianna\\dianna\\dianna\\methods\\rise.py:35\u001b[0m, in \u001b[0;36mgenerate_masks_for_images\u001b[1;34m(input_size, p_keep, n_masks, feature_res)\u001b[0m\n\u001b[0;32m     <a href='file:///c%3A/users/christiaanmeijer/documents/dianna/dianna/dianna/methods/rise.py?line=31'>32</a>\u001b[0m masks \u001b[39m=\u001b[39m np\u001b[39m.\u001b[39mempty((n_masks, \u001b[39m*\u001b[39minput_size), dtype\u001b[39m=\u001b[39mnp\u001b[39m.\u001b[39mfloat32)\n\u001b[0;32m     <a href='file:///c%3A/users/christiaanmeijer/documents/dianna/dianna/dianna/methods/rise.py?line=33'>34</a>\u001b[0m \u001b[39mfor\u001b[39;00m i \u001b[39min\u001b[39;00m \u001b[39mrange\u001b[39m(n_masks):\n\u001b[1;32m---> <a href='file:///c%3A/users/christiaanmeijer/documents/dianna/dianna/dianna/methods/rise.py?line=34'>35</a>\u001b[0m     y \u001b[39m=\u001b[39m np\u001b[39m.\u001b[39;49mrandom\u001b[39m.\u001b[39;49mrandint(\u001b[39m0\u001b[39;49m, cell_size[\u001b[39m0\u001b[39;49m])\n\u001b[0;32m     <a href='file:///c%3A/users/christiaanmeijer/documents/dianna/dianna/dianna/methods/rise.py?line=35'>36</a>\u001b[0m     x \u001b[39m=\u001b[39m np\u001b[39m.\u001b[39mrandom\u001b[39m.\u001b[39mrandint(\u001b[39m0\u001b[39m, cell_size[\u001b[39m1\u001b[39m])\n\u001b[0;32m     <a href='file:///c%3A/users/christiaanmeijer/documents/dianna/dianna/dianna/methods/rise.py?line=36'>37</a>\u001b[0m     \u001b[39m# Linear upsampling and cropping\u001b[39;00m\n",
            "File \u001b[1;32mmtrand.pyx:746\u001b[0m, in \u001b[0;36mnumpy.random.mtrand.RandomState.randint\u001b[1;34m()\u001b[0m\n",
            "File \u001b[1;32m_bounded_integers.pyx:1338\u001b[0m, in \u001b[0;36mnumpy.random._bounded_integers._rand_int32\u001b[1;34m()\u001b[0m\n",
            "\u001b[1;31mValueError\u001b[0m: high <= 0"
          ]
        },
        {
          "data": {
            "image/png": "[encoded data removed]",
            "text/plain": [
              "<Figure size 1440x720 with 8 Axes>"
            ]
          },
          "metadata": {
            "needs_background": "light"
          },
          "output_type": "display_data"
        }
      ],
      "source": [
        "import dianna\n",
        "\n",
        "percentages = [1, 2, 5, 10, 20, 50, 100]\n",
        "fig, ax = plt.subplots(2, len(percentages)//2 + 1, figsize=(20,10))\n",
        "embedded_reference = model.run_on_batch(x_fly)\n",
        "for ix, percentage in enumerate(percentages):\n",
        "  _sal = dianna.explain_image_distance(model.run_on_batch, x_bee[1:], \n",
        "  embedded_reference, p_keep_lowest_distances=percentage/100, axis_labels={2: 'channels'})\n",
        "  # explain2(model, x_bee, x_fly, _masks, preds=_masked_predictions, keep_lowest_distance_masks_fraction=percentage/100)\n",
        "  plot_explainer(img_bee, _sal[0], ax=ax.flatten()[ix], title=percentage, add_value_limits_to_title=True, do_cbar=False)\n",
        "plt.show()"
      ]
    },
    {
      "cell_type": "code",
      "execution_count": null,
      "metadata": {
        "id": "Q94Gf0hwyF6O"
      },
      "outputs": [],
      "source": []
    }
  ],
  "metadata": {
    "accelerator": "GPU",
    "colab": {
      "collapsed_sections": [],
      "name": "rise_embeddings_2classes_power20.ipynb",
      "provenance": []
    },
    "gpuClass": "standard",
    "kernelspec": {
      "display_name": "Python 3",
      "name": "python3"
    },
    "language_info": {
      "codemirror_mode": {
        "name": "ipython",
        "version": 3
      },
      "file_extension": ".py",
      "mimetype": "text/x-python",
      "name": "python",
      "nbconvert_exporter": "python",
      "pygments_lexer": "ipython3",
      "version": "3.9.9"
    }
  },
  "nbformat": 4,
  "nbformat_minor": 0
}
