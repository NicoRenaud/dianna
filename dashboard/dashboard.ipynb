{
 "cells": [
  {
   "cell_type": "code",
   "execution_count": 1,
   "metadata": {},
   "outputs": [],
   "source": [
    "# Dash&Flask\n",
    "import dash\n",
    "from dash import html, dcc\n",
    "# Custom libraries\n",
    "import layouts\n",
    "from layouts import images_page, text_page\n",
    "import utilities\n",
    "import callbacks\n",
    "from callbacks import app\n",
    "# Others\n",
    "import warnings\n",
    "warnings.filterwarnings('ignore') # disable warnings relateds to versions of tf"
   ]
  },
  {
   "cell_type": "code",
   "execution_count": 2,
   "metadata": {},
   "outputs": [
    {
     "data": {
      "text/plain": [
       "<module 'utilities' from '/Users/giuliacrocioni/Desktop/eScience/projects_2022/DIANNA/dianna/dashboard/utilities.py'>"
      ]
     },
     "execution_count": 2,
     "metadata": {},
     "output_type": "execute_result"
    }
   ],
   "source": [
    "# debug\n",
    "from importlib import reload\n",
    "reload(layouts)\n",
    "reload(utilities)"
   ]
  },
  {
   "cell_type": "code",
   "execution_count": 3,
   "metadata": {},
   "outputs": [
    {
     "name": "stdout",
     "output_type": "stream",
     "text": [
      "Dash app running on http://127.0.0.1:8050/\n"
     ]
    },
    {
     "name": "stderr",
     "output_type": "stream",
     "text": [
      "Error on request:\n",
      "Traceback (most recent call last):\n",
      "  File \"/Users/giuliacrocioni/miniforge3/envs/dianna_new/lib/python3.9/site-packages/flask/app.py\", line 1523, in full_dispatch_request\n",
      "    rv = self.dispatch_request()\n",
      "  File \"/Users/giuliacrocioni/miniforge3/envs/dianna_new/lib/python3.9/site-packages/flask/app.py\", line 1509, in dispatch_request\n",
      "    return self.ensure_sync(self.view_functions[rule.endpoint])(**req.view_args)\n",
      "  File \"/Users/giuliacrocioni/miniforge3/envs/dianna_new/lib/python3.9/site-packages/dash/dash.py\", line 1344, in dispatch\n",
      "    response.set_data(func(*args, outputs_list=outputs_list))\n",
      "  File \"/Users/giuliacrocioni/miniforge3/envs/dianna_new/lib/python3.9/site-packages/dash/_callback.py\", line 166, in add_context\n",
      "    flat_output_values = flatten_grouping(output_value, output)\n",
      "  File \"/Users/giuliacrocioni/miniforge3/envs/dianna_new/lib/python3.9/site-packages/dash/_grouping.py\", line 34, in flatten_grouping\n",
      "    validate_grouping(grouping, schema)\n",
      "  File \"/Users/giuliacrocioni/miniforge3/envs/dianna_new/lib/python3.9/site-packages/dash/_grouping.py\", line 213, in validate_grouping\n",
      "    SchemaTypeValidationError.check(grouping, full_schema, path, (tuple, list))\n",
      "  File \"/Users/giuliacrocioni/miniforge3/envs/dianna_new/lib/python3.9/site-packages/dash/_grouping.py\", line 165, in check\n",
      "    raise SchemaTypeValidationError(value, full_schema, path, expected_type)\n",
      "dash._grouping.SchemaTypeValidationError: Schema: [<Output `output-state-text.children`>, <Output `text_expl.children`>]\n",
      "Path: ()\n",
      "Expected type: (<class 'tuple'>, <class 'list'>)\n",
      "Received value of type <class 'dash.html.Div.Div'>:\n",
      "    Div([''])\n",
      "\n",
      "During handling of the above exception, another exception occurred:\n",
      "\n",
      "Traceback (most recent call last):\n",
      "  File \"/Users/giuliacrocioni/miniforge3/envs/dianna_new/lib/python3.9/site-packages/flask/app.py\", line 2077, in wsgi_app\n",
      "    response = self.full_dispatch_request()\n",
      "  File \"/Users/giuliacrocioni/miniforge3/envs/dianna_new/lib/python3.9/site-packages/flask/app.py\", line 1525, in full_dispatch_request\n",
      "    rv = self.handle_user_exception(e)\n",
      "  File \"/Users/giuliacrocioni/miniforge3/envs/dianna_new/lib/python3.9/site-packages/flask/app.py\", line 1391, in handle_user_exception\n",
      "    return self.ensure_sync(handler)(e)\n",
      "  File \"/Users/giuliacrocioni/miniforge3/envs/dianna_new/lib/python3.9/site-packages/jupyter_dash/jupyter_app.py\", line 364, in _wrap_errors\n",
      "    tb_werkzeug = DebugTraceback()\n",
      "TypeError: __init__() missing 1 required positional argument: 'exc'\n",
      "\n",
      "During handling of the above exception, another exception occurred:\n",
      "\n",
      "Traceback (most recent call last):\n",
      "  File \"/Users/giuliacrocioni/miniforge3/envs/dianna_new/lib/python3.9/site-packages/werkzeug/serving.py\", line 319, in run_wsgi\n",
      "    execute(self.server.app)\n",
      "  File \"/Users/giuliacrocioni/miniforge3/envs/dianna_new/lib/python3.9/site-packages/werkzeug/serving.py\", line 306, in execute\n",
      "    application_iter = app(environ, start_response)\n",
      "  File \"/Users/giuliacrocioni/miniforge3/envs/dianna_new/lib/python3.9/site-packages/flask/app.py\", line 2095, in __call__\n",
      "    return self.wsgi_app(environ, start_response)\n",
      "  File \"/Users/giuliacrocioni/miniforge3/envs/dianna_new/lib/python3.9/site-packages/flask/app.py\", line 2080, in wsgi_app\n",
      "    response = self.handle_exception(e)\n",
      "  File \"/Users/giuliacrocioni/miniforge3/envs/dianna_new/lib/python3.9/site-packages/flask/app.py\", line 1438, in handle_exception\n",
      "    server_error = self.ensure_sync(handler)(server_error)\n",
      "  File \"/Users/giuliacrocioni/miniforge3/envs/dianna_new/lib/python3.9/site-packages/jupyter_dash/jupyter_app.py\", line 364, in _wrap_errors\n",
      "    tb_werkzeug = DebugTraceback()\n",
      "TypeError: __init__() missing 1 required positional argument: 'exc'\n"
     ]
    }
   ],
   "source": [
    "app.layout = html.Div([\n",
    "    dcc.Location(id='url', refresh=False),\n",
    "    html.Div(id='page-content')\n",
    "])\n",
    "\n",
    "@app.callback(dash.dependencies.Output('page-content', 'children'),\n",
    "              [dash.dependencies.Input('url', 'pathname')])\n",
    "def display_page(pathname):\n",
    "    if pathname == '/apps/text':\n",
    "         return text_page\n",
    "    else:\n",
    "         return images_page # home page\n",
    "\n",
    "app.run_server(mode='external', port=8050)"
   ]
  },
  {
   "cell_type": "code",
   "execution_count": null,
   "metadata": {},
   "outputs": [],
   "source": []
  }
 ],
 "metadata": {
  "interpreter": {
   "hash": "1169365229a6973d4396a155ae30c4ccccac7e32d4a33e84a8e817391c6ab2d2"
  },
  "kernelspec": {
   "display_name": "Python 3.9.10 ('dianna_new')",
   "language": "python",
   "name": "python3"
  },
  "language_info": {
   "codemirror_mode": {
    "name": "ipython",
    "version": 3
   },
   "file_extension": ".py",
   "mimetype": "text/x-python",
   "name": "python",
   "nbconvert_exporter": "python",
   "pygments_lexer": "ipython3",
   "version": "3.9.12"
  },
  "orig_nbformat": 4
 },
 "nbformat": 4,
 "nbformat_minor": 2
}
