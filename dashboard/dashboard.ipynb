{
 "cells": [
  {
   "cell_type": "code",
   "execution_count": null,
   "metadata": {},
   "outputs": [],
   "source": [
    "# Dash&Flask\n",
    "import dash\n",
    "from dash import html, dcc\n",
    "# Custom libraries\n",
    "import layouts\n",
    "from layouts import images_page, text_page, protein_page\n",
    "import utilities\n",
    "import callbacks\n",
    "from callbacks import app\n",
    "# Others\n",
    "import warnings\n",
    "warnings.filterwarnings('ignore') # disable warnings relateds to versions of tf"
   ]
  },
  {
   "cell_type": "code",
   "execution_count": null,
   "metadata": {},
   "outputs": [],
   "source": [
    "# debug\n",
    "from importlib import reload\n",
    "reload(layouts)\n",
    "reload(utilities)"
   ]
  },
  {
   "cell_type": "code",
   "execution_count": null,
   "metadata": {},
   "outputs": [],
   "source": [
    "app.layout = html.Div([\n",
    "    dcc.Location(id='url', refresh=False),\n",
    "    html.Div(id='page-content')\n",
    "])\n",
    "\n",
    "@app.callback(dash.dependencies.Output('page-content', 'children'),\n",
    "              [dash.dependencies.Input('url', 'pathname')])\n",
    "def display_page(pathname):\n",
    "    if pathname == '/apps/text':\n",
    "         return text_page\n",
    "    elif pathname == '/apps/protein':\n",
    "        return protein_page\n",
    "    else:\n",
    "         return images_page # home page\n",
    "\n",
    "app.run_server(mode='external', port=8050)"
   ]
  }
 ],
 "metadata": {
  "kernelspec": {
   "display_name": "pdb2sql",
   "language": "python",
   "name": "python3"
  },
  "language_info": {
   "codemirror_mode": {
    "name": "ipython",
    "version": 3
   },
   "file_extension": ".py",
   "mimetype": "text/x-python",
   "name": "python",
   "nbconvert_exporter": "python",
   "pygments_lexer": "ipython3",
   "version": "3.8.13"
  },
  "orig_nbformat": 4,
  "vscode": {
   "interpreter": {
    "hash": "00151ef505387be0731616fa96c625bdf946e6e336218eddc7a4a25317d75392"
   }
  }
 },
 "nbformat": 4,
 "nbformat_minor": 2
}
