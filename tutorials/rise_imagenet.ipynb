{
 "cells": [
  {
   "cell_type": "code",
   "execution_count": null,
   "id": "a626f1c8-40e2-44dc-b7ff-5beab9ab29f0",
   "metadata": {},
   "outputs": [],
   "source": [
    "import os\n",
    "import dianna\n",
    "import onnx\n",
    "import onnxruntime\n",
    "import numpy as np\n",
    "%matplotlib inline\n",
    "from matplotlib import pyplot as plt\n",
    "from tensorflow.keras.applications.resnet50 import ResNet50, preprocess_input, decode_predictions\n",
    "from keras import backend as K\n",
    "from keras.preprocessing import image"
   ]
  },
  {
   "cell_type": "code",
   "execution_count": null,
   "id": "96357156-deb5-4016-8998-50da5dcdb288",
   "metadata": {},
   "outputs": [],
   "source": [
    "class Model():\n",
    "    def __init__(self):\n",
    "        K.set_learning_phase(0)\n",
    "        self.model = ResNet50()\n",
    "        self.input_size = (224, 224)\n",
    "        \n",
    "    def run_on_batch(self, x):\n",
    "        return self.model.predict(x)"
   ]
  },
  {
   "cell_type": "code",
   "execution_count": null,
   "id": "59d64afd-fab7-46e1-93ce-64e3cb4e1fca",
   "metadata": {},
   "outputs": [],
   "source": [
    "def load_img(path):\n",
    "    img = image.load_img(path, target_size=model.input_size)\n",
    "    x = image.img_to_array(img)\n",
    "    x = np.expand_dims(x, axis=0)\n",
    "    x = preprocess_input(x)\n",
    "    return img, x"
   ]
  },
  {
   "cell_type": "code",
   "execution_count": null,
   "id": "869a7b56-901a-4a80-82ff-8c381de10252",
   "metadata": {},
   "outputs": [],
   "source": [
    "def class_name(idx):\n",
    "    return decode_predictions(np.eye(1, 1000, idx))[0][0][1]"
   ]
  },
  {
   "cell_type": "code",
   "execution_count": null,
   "id": "90e07c30-976a-4179-9c6d-970fffa1d762",
   "metadata": {},
   "outputs": [],
   "source": [
    "model = Model()"
   ]
  },
  {
   "cell_type": "code",
   "execution_count": null,
   "id": "8b2d285d-b42d-448e-bc32-e4ae7bd63661",
   "metadata": {},
   "outputs": [],
   "source": [
    "img, x = load_img('catdog.png')\n",
    "plt.imshow(img)"
   ]
  },
  {
   "cell_type": "markdown",
   "id": "worst-gregory",
   "metadata": {},
   "source": [
    "# Predict classes for test data"
   ]
  },
  {
   "cell_type": "markdown",
   "id": "renewable-twelve",
   "metadata": {},
   "source": [
    "Print class and image of a single instance in the test data"
   ]
  },
  {
   "cell_type": "code",
   "execution_count": null,
   "id": "bacterial-shakespeare",
   "metadata": {},
   "outputs": [],
   "source": [
    "# heatmaps = dianna.explain(model.run_on_batch, x, method=\"RISE\", n_masks=2000, feature_res=8)"
   ]
  },
  {
   "cell_type": "code",
   "execution_count": null,
   "id": "spiritual-feeding",
   "metadata": {},
   "outputs": [],
   "source": [
    "from dianna.methods import RISE\n",
    "explainer = RISE(n_masks=600, feature_res=8, p_keep=.5)\n",
    "heatmaps = explainer(model.run_on_batch, x)"
   ]
  },
  {
   "cell_type": "code",
   "execution_count": null,
   "id": "f0549de3-9abc-4f95-9fbf-373074da1df0",
   "metadata": {},
   "outputs": [],
   "source": [
    "class_idx = 243\n",
    "plt.title('Explanation for `{}`'.format(class_name(class_idx)))\n",
    "plt.axis('off')\n",
    "plt.imshow(img)\n",
    "plt.imshow(heatmaps[class_idx], cmap='jet', alpha=0.5)\n",
    "# plt.colorbar()\n",
    "plt.show()"
   ]
  },
  {
   "cell_type": "code",
   "execution_count": null,
   "id": "intimate-operations",
   "metadata": {
    "tags": []
   },
   "outputs": [],
   "source": [
    "from dianna import visualization\n",
    "visualization.plot_image(heatmaps[class_idx], image.img_to_array(img)/255., heatmap_cmap='jet')\n",
    "# visualization.plot_image(heatmaps[class_idx], heatmap_cmap='gray')"
   ]
  },
  {
   "cell_type": "code",
   "execution_count": null,
   "id": "bizarre-bracket",
   "metadata": {},
   "outputs": [],
   "source": [
    "def describe(arr):\n",
    "    print('shape:',arr.shape, 'min:',np.min(arr), 'max:',np.max(arr), 'std:',np.std(arr))\n",
    "\n",
    "describe(heatmaps[class_idx])"
   ]
  },
  {
   "cell_type": "code",
   "execution_count": null,
   "id": "illegal-report",
   "metadata": {},
   "outputs": [],
   "source": [
    "for i in range(10):\n",
    "    plt.imshow(explainer.masks[i])\n",
    "    plt.show()"
   ]
  },
  {
   "cell_type": "code",
   "execution_count": null,
   "id": "289b6642-9dce-4175-945a-585217cfebba",
   "metadata": {},
   "outputs": [],
   "source": []
  }
 ],
 "metadata": {
  "kernelspec": {
   "display_name": "Python 3 (ipykernel)",
   "language": "python",
   "name": "python3"
  },
  "language_info": {
   "codemirror_mode": {
    "name": "ipython",
    "version": 3
   },
   "file_extension": ".py",
   "mimetype": "text/x-python",
   "name": "python",
   "nbconvert_exporter": "python",
   "pygments_lexer": "ipython3",
   "version": "3.9.1"
  }
 },
 "nbformat": 4,
 "nbformat_minor": 5
}
