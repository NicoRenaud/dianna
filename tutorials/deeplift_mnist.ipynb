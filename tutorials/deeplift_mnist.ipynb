{
 "cells": [
  {
   "cell_type": "code",
   "execution_count": 1,
   "id": "2fac4a25-70d2-45f9-86ad-764d062618a1",
   "metadata": {},
   "outputs": [],
   "source": [
    "import os\n",
    "import numpy as np\n",
    "import torch\n",
    "from torch import nn\n",
    "import torch.nn.functional as F\n",
    "import matplotlib.pyplot as plt\n",
    "%matplotlib inline\n",
    "\n",
    "import dianna\n",
    "from dianna.methods import DeepLift\n",
    "from dianna import visualization"
   ]
  },
  {
   "cell_type": "code",
   "execution_count": 2,
   "id": "e66a5979-9054-49a8-bf28-e6b85482d564",
   "metadata": {},
   "outputs": [],
   "source": [
    "data = np.load('./binary-mnist.npz')\n",
    "X_test = data['X_test'].astype(np.float32).reshape([-1, 28, 28, 1])/255\n",
    "y_test = data['y_test'].astype(int)"
   ]
  },
  {
   "cell_type": "code",
   "execution_count": 3,
   "id": "02a3bd3f-805b-478e-8771-957eb2d9b3d4",
   "metadata": {},
   "outputs": [],
   "source": [
    "class MnistNet(nn.Module):\n",
    "    \"\"\"\n",
    "    Model designed for mnist. This class works with the load_torch_model\n",
    "    function for testing deeplift in dianna.\n",
    "    \"\"\"\n",
    "\n",
    "    def __init__(self, kernels=[16, 32], dropout=0.1, classes=2):\n",
    "        '''\n",
    "        Two layer CNN model with max pooling.\n",
    "        '''\n",
    "        super(MnistNet, self).__init__()\n",
    "        self.kernels = kernels\n",
    "        # 1st layer\n",
    "        self.layer1 = nn.Sequential(\n",
    "            nn.Conv2d(1, kernels[0], kernel_size=5, stride=1, padding=2),\n",
    "            nn.MaxPool2d(kernel_size=2, stride=2),\n",
    "            nn.ReLU(),\n",
    "            nn.Dropout()\n",
    "        )\n",
    "        # 2nd layer\n",
    "        self.layer2 = nn.Sequential(\n",
    "            nn.Conv2d(kernels[0], kernels[1],\n",
    "                      kernel_size=5, stride=1, padding=2),\n",
    "            nn.MaxPool2d(kernel_size=2, stride=2),\n",
    "            nn.ReLU(),\n",
    "            nn.Dropout()\n",
    "        )\n",
    "        # pixel 28 / maxpooling 2 * 2 = 7\n",
    "        self.fc1 = nn.Linear(7 * 7 * kernels[-1], kernels[-1])\n",
    "        self.fc2 = nn.Linear(kernels[-1], classes)\n",
    "\n",
    "    def forward(self, x):\n",
    "        x = self.layer1(x)\n",
    "        x = self.layer2(x)\n",
    "        x = x.reshape(x.size(0), -1)\n",
    "        x = self.fc1(x)\n",
    "        x = self.fc2(x)\n",
    "\n",
    "        return F.log_softmax(x, dim=1)\n",
    "\n",
    "\n",
    "def load_torch_model(path_to_model):\n",
    "    \"\"\"\n",
    "    Load pytorch model\n",
    "    Args:\n",
    "        path_to_model (str):\n",
    "    Returns:\n",
    "        pytorch model\n",
    "    \"\"\"\n",
    "    # create the structure of the model\n",
    "    # hyper-parameters\n",
    "    kernels = [16, 32]\n",
    "    dropout = 0.5\n",
    "    classes = 2\n",
    "    # create model\n",
    "    model = MnistNet(kernels, dropout, classes)\n",
    "    # load whole model state\n",
    "    checkpoint = torch.load(path_to_model)\n",
    "    # load model\n",
    "    model.load_state_dict(checkpoint['model_state_dict'])\n",
    "    model.eval()\n",
    "\n",
    "    return model"
   ]
  },
  {
   "cell_type": "code",
   "execution_count": 4,
   "id": "2b2bce90-4b82-4a63-a0b6-4a4570bb32cc",
   "metadata": {},
   "outputs": [],
   "source": [
    "model = load_torch_model(os.path.expanduser('~/surfdrive/Shared/datasets/mnist/mnistnet_training_checkpoint.pt'))"
   ]
  },
  {
   "cell_type": "code",
   "execution_count": 5,
   "id": "4b04e448-d9c5-46b9-a361-6f2faecaec07",
   "metadata": {},
   "outputs": [],
   "source": [
    "# select a random image from binary MNIST\n",
    "idx = np.random.choice(len(X_test))\n",
    "X = X_test[idx:idx+1]\n",
    "y = y_test[idx]\n",
    "\n",
    "# move channel axis from end to second position\n",
    "X = np.transpose(X, (0, 3, 1, 2))"
   ]
  },
  {
   "cell_type": "code",
   "execution_count": 9,
   "id": "3d30e315-9e97-4b09-9786-2e842e6a0bb0",
   "metadata": {},
   "outputs": [],
   "source": [
    "deeplift = DeepLift()\n",
    "heatmap = deeplift.explain_image(model, X, label=y)"
   ]
  },
  {
   "cell_type": "code",
   "execution_count": 17,
   "id": "c0d40f8a-91b7-4400-9cc6-f71b1b044b23",
   "metadata": {},
   "outputs": [
    {
     "data": {
      "image/png": "[encoded data removed]",
      "text/plain": [
       "<Figure size 432x288 with 1 Axes>"
      ]
     },
     "metadata": {
      "needs_background": "light"
     },
     "output_type": "display_data"
    },
    {
     "data": {
      "image/png": "[encoded data removed]",
      "text/plain": [
       "<Figure size 432x288 with 1 Axes>"
      ]
     },
     "metadata": {
      "needs_background": "light"
     },
     "output_type": "display_data"
    }
   ],
   "source": [
    "plt.imshow(X[0,0])\n",
    "visualization.plot_image(heatmap[0,0])"
   ]
  }
 ],
 "metadata": {
  "kernelspec": {
   "display_name": "Python 3 (ipykernel)",
   "language": "python",
   "name": "python3"
  },
  "language_info": {
   "codemirror_mode": {
    "name": "ipython",
    "version": 3
   },
   "file_extension": ".py",
   "mimetype": "text/x-python",
   "name": "python",
   "nbconvert_exporter": "python",
   "pygments_lexer": "ipython3",
   "version": "3.9.1"
  }
 },
 "nbformat": 4,
 "nbformat_minor": 5
}
