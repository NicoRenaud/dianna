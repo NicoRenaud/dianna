{
 "cells": [
  {
   "cell_type": "markdown",
   "metadata": {},
   "source": [
    "<img width=\"150\" alt=\"Logo_ER10\" src=\"https://user-images.githubusercontent.com/3244249/151994514-b584b984-a148-4ade-80ee-0f88b0aefa45.png\">\n",
    "\n",
    "## Sklearn model to ONNX conversion\n",
    "This notebook shows how to convert your trained Sklearn model to ONNX, the generic format supported by DIANNA. <br>\n",
    "\n",
    "The conversion is complete with the skl2onnx Python package. It is recommended to updated onnx to at least version 1.8 to avoid unexpected errors."
   ]
  },
  {
   "cell_type": "code",
   "execution_count": 1,
   "metadata": {},
   "outputs": [],
   "source": [
    "import numpy\n",
    "\n",
    "from sklearn.datasets import make_regression\n",
    "from sklearn.ensemble import (\n",
    "    GradientBoostingRegressor, RandomForestRegressor,\n",
    "    VotingRegressor)\n",
    "from sklearn.linear_model import LinearRegression\n",
    "from sklearn.model_selection import train_test_split\n",
    "\n",
    "from skl2onnx import to_onnx\n",
    "\n",
    "import onnxruntime as ort"
   ]
  },
  {
   "cell_type": "markdown",
   "metadata": {},
   "source": [
    "Generate random input for evaluation."
   ]
  },
  {
   "cell_type": "code",
   "execution_count": 2,
   "metadata": {},
   "outputs": [
    {
     "name": "stdout",
     "output_type": "stream",
     "text": [
      "Train shape (110, 10)\n",
      "Test shape (10890, 10)\n"
     ]
    }
   ],
   "source": [
    "N = 11000\n",
    "X, y = make_regression(N, n_features=10)\n",
    "X_train, X_test, y_train, y_test = train_test_split(\n",
    "    X, y, train_size=0.01)\n",
    "print(\"Train shape\", X_train.shape)\n",
    "print(\"Test shape\", X_test.shape)"
   ]
  },
  {
   "cell_type": "markdown",
   "metadata": {},
   "source": [
    "Create some (overly complicated) machine learning model and make some predictions on a test set."
   ]
  },
  {
   "cell_type": "code",
   "execution_count": 3,
   "metadata": {},
   "outputs": [
    {
     "data": {
      "text/plain": [
       "VotingRegressor(estimators=[('gb', GradientBoostingRegressor(random_state=1)),\n",
       "                            ('rf', RandomForestRegressor(random_state=1)),\n",
       "                            ('lr', LinearRegression())])"
      ]
     },
     "execution_count": 3,
     "metadata": {},
     "output_type": "execute_result"
    }
   ],
   "source": [
    "# create machine learning models\n",
    "reg1 = GradientBoostingRegressor(random_state=1)\n",
    "reg2 = RandomForestRegressor(random_state=1)\n",
    "reg3 = LinearRegression()\n",
    "# train these machine learning models\n",
    "model = VotingRegressor([('gb', reg1), ('rf', reg2), ('lr', reg3)])\n",
    "model.fit(X_train, y_train)"
   ]
  },
  {
   "cell_type": "code",
   "execution_count": 4,
   "metadata": {},
   "outputs": [
    {
     "data": {
      "text/plain": [
       "array([ 47.96170639,  99.56277856, -78.98628174, ...,  10.15797617,\n",
       "        29.71168603, -42.59688163])"
      ]
     },
     "execution_count": 4,
     "metadata": {},
     "output_type": "execute_result"
    }
   ],
   "source": [
    "# make predictions with the trained machine learning models\n",
    "pred = model.predict(X_test)\n",
    "pred"
   ]
  },
  {
   "cell_type": "markdown",
   "metadata": {},
   "source": [
    "Convert to ONNX. <br>\n",
    "Note that sometimes it is necessary to choose the correct `target_opset` number when `onnxruntime.InferenceSession` complains. <br>\n",
    "For more information about `target_opset` number, check the following link: <br>\n",
    "http://onnx.ai/sklearn-onnx/auto_tutorial/plot_cbegin_opset.html"
   ]
  },
  {
   "cell_type": "code",
   "execution_count": 5,
   "metadata": {},
   "outputs": [],
   "source": [
    "onnx_model = to_onnx(model, X_train[:1].astype(numpy.float32), target_opset=12)"
   ]
  },
  {
   "cell_type": "markdown",
   "metadata": {},
   "source": [
    "Evaluate ONNX models and compare to original model output."
   ]
  },
  {
   "cell_type": "code",
   "execution_count": 6,
   "metadata": {},
   "outputs": [
    {
     "name": "stdout",
     "output_type": "stream",
     "text": [
      "True\n"
     ]
    }
   ],
   "source": [
    "sess = ort.InferenceSession(onnx_model.SerializeToString())\n",
    "input_name = sess.get_inputs()[0].name\n",
    "label_name = sess.get_outputs()[0].name\n",
    "pred_onx = sess.run([label_name], {input_name: X_test.astype(numpy.float32)})[0]\n",
    "print(numpy.allclose(pred, pred_onx[:,0], atol=1e-4))"
   ]
  }
 ],
 "metadata": {
  "interpreter": {
   "hash": "e7604e8ec5f09e490e10161e37a4725039efd3ab703d81b1b8a1e00d6741866c"
  },
  "kernelspec": {
   "display_name": "Python 3.8.5 64-bit ('base': conda)",
   "language": "python",
   "name": "python3"
  },
  "language_info": {
   "codemirror_mode": {
    "name": "ipython",
    "version": 3
   },
   "file_extension": ".py",
   "mimetype": "text/x-python",
   "name": "python",
   "nbconvert_exporter": "python",
   "pygments_lexer": "ipython3",
   "version": "3.8.5"
  },
  "orig_nbformat": 4
 },
 "nbformat": 4,
 "nbformat_minor": 2
}
