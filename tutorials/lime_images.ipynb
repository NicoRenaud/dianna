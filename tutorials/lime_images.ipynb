{
 "cells": [
  {
   "cell_type": "markdown",
   "id": "african-verse",
   "metadata": {},
   "source": [
    "## LIME on images\n",
    "This notebook demonstrates the use of LIME on the [leafsnap30 image dataset](https://zenodo.org/record/5061353#.YeUwXy1Q30o)."
   ]
  },
  {
   "cell_type": "markdown",
   "id": "a5cf6f82-c1c7-4814-ae0f-5a1c0b8578f6",
   "metadata": {},
   "source": [
    "## Introduction\n",
    "\n",
    "A convolutional neural network was trained to identify the species of a leaf based on a picture of it.  \n",
    "Here LIME is used to then determine which pixels of the image were most important to determine the species."
   ]
  },
  {
   "cell_type": "code",
   "execution_count": 1,
   "id": "34b556d8-5337-44dc-8efe-14d1dff6f011",
   "metadata": {},
   "outputs": [],
   "source": [
    "from pathlib import Path\n",
    "from PIL import Image\n",
    "import matplotlib.pyplot as plt\n",
    "import numpy as np\n",
    "\n",
    "import dianna"
   ]
  },
  {
   "cell_type": "code",
   "execution_count": 2,
   "id": "c616916c-78ef-48d0-a744-b25b37b62a3f",
   "metadata": {},
   "outputs": [],
   "source": [
    "# define paths and model classes\n",
    "true_species = 'acer_rubrum'\n",
    "image_path = f'data/leafsnap_example_{true_species}.jpg'\n",
    "model_path = str(Path('~/surfdrive/Shared/datasets/leafsnap/leafsnap_model.onnx').expanduser())\n",
    "model_classes_path = 'data/leafsnap_classes.csv'"
   ]
  },
  {
   "cell_type": "code",
   "execution_count": 7,
   "id": "6597d1d8-b701-4276-9c3b-769ef492817d",
   "metadata": {},
   "outputs": [],
   "source": [
    "# load the model class definitions\n",
    "class_to_idx = dict(np.genfromtxt(model_classes_path, dtype=None, encoding=None, delimiter=','))\n",
    "true_species = 'acer_rubrum'\n",
    "true_species_index = class_to_idx[true_species]"
   ]
  },
  {
   "cell_type": "code",
   "execution_count": 36,
   "id": "862a0f29-6cac-4ff4-a9c9-6c0a5511408f",
   "metadata": {},
   "outputs": [
    {
     "data": {
      "image/png": "[encoded data removed]",
      "text/plain": [
       "<Figure size 432x288 with 1 Axes>"
      ]
     },
     "metadata": {
      "needs_background": "light"
     },
     "output_type": "display_data"
    }
   ],
   "source": [
    "# load the example image\n",
    "img = np.array(Image.open(f'data/leafsnap_example_{true_species}.jpg'))\n",
    "\n",
    "plt.imshow(img)\n",
    "plt.title(f'Species: {true_species}');\n",
    "\n",
    "# the model expects float32 values in the 0-1 range for each pixel, with the color channels as first axis\n",
    "# the .jpg file has 0-255 ints with the channel axis last so it needs to be changed\n",
    "input_data = img.transpose(2, 0, 1).astype(np.float32) / 255.\n",
    "\n",
    "# Add a first axis to the image, which will be used as batch axis for the model\n",
    "input_data = input_data[None, ...]\n",
    "\n",
    "# define axis labels. Required are batch and channels\n",
    "# in this example image, the batch axis is the first axis and the channels axis is the second axis\n",
    "axis_labels = {0: 'batch', 1: 'channels'}"
   ]
  },
  {
   "cell_type": "markdown",
   "id": "02ccb569-a2e9-41b3-a732-f6c31a929a90",
   "metadata": {},
   "source": [
    "## Running DIANNA"
   ]
  },
  {
   "cell_type": "code",
   "execution_count": 9,
   "id": "7c0bfd7d-df1d-4981-b714-496bc16b9347",
   "metadata": {},
   "outputs": [
    {
     "ename": "TypeError",
     "evalue": "__init__() got an unexpected keyword argument 'label'",
     "output_type": "error",
     "traceback": [
      "\u001b[0;31m---------------------------------------------------------------------------\u001b[0m",
      "\u001b[0;31mTypeError\u001b[0m                                 Traceback (most recent call last)",
      "\u001b[0;32m/var/folders/rj/_8tmcy8118q5h1zc_3dz1rz00000gn/T/ipykernel_79736/2280573495.py\u001b[0m in \u001b[0;36m<module>\u001b[0;34m\u001b[0m\n\u001b[0;32m----> 1\u001b[0;31m \u001b[0mexplanation\u001b[0m \u001b[0;34m=\u001b[0m \u001b[0mdianna\u001b[0m\u001b[0;34m.\u001b[0m\u001b[0mexplain_image\u001b[0m\u001b[0;34m(\u001b[0m\u001b[0mmodel_path\u001b[0m\u001b[0;34m,\u001b[0m \u001b[0minput_data\u001b[0m\u001b[0;34m,\u001b[0m \u001b[0;34m'LIME'\u001b[0m\u001b[0;34m,\u001b[0m \u001b[0maxes_labels\u001b[0m\u001b[0;34m=\u001b[0m\u001b[0maxis_labels\u001b[0m\u001b[0;34m,\u001b[0m \u001b[0mlabel\u001b[0m\u001b[0;34m=\u001b[0m\u001b[0mtrue_species_index\u001b[0m\u001b[0;34m)\u001b[0m\u001b[0;34m\u001b[0m\u001b[0;34m\u001b[0m\u001b[0m\n\u001b[0m\u001b[1;32m      2\u001b[0m \u001b[0mexplanation\u001b[0m\u001b[0;34m.\u001b[0m\u001b[0mshape\u001b[0m\u001b[0;34m\u001b[0m\u001b[0;34m\u001b[0m\u001b[0m\n",
      "\u001b[0;32m~/projects/DIANNA/dianna/dianna/__init__.py\u001b[0m in \u001b[0;36mexplain_image\u001b[0;34m(model_or_function, input_data, method, **kwargs)\u001b[0m\n\u001b[1;32m     47\u001b[0m \u001b[0;34m\u001b[0m\u001b[0m\n\u001b[1;32m     48\u001b[0m     \"\"\"\n\u001b[0;32m---> 49\u001b[0;31m     \u001b[0;32mreturn\u001b[0m \u001b[0m_get_explainer\u001b[0m\u001b[0;34m(\u001b[0m\u001b[0mmethod\u001b[0m\u001b[0;34m,\u001b[0m \u001b[0mkwargs\u001b[0m\u001b[0;34m)\u001b[0m\u001b[0;34m.\u001b[0m\u001b[0mexplain_image\u001b[0m\u001b[0;34m(\u001b[0m\u001b[0mmodel_or_function\u001b[0m\u001b[0;34m,\u001b[0m \u001b[0minput_data\u001b[0m\u001b[0;34m)\u001b[0m\u001b[0;34m\u001b[0m\u001b[0;34m\u001b[0m\u001b[0m\n\u001b[0m\u001b[1;32m     50\u001b[0m \u001b[0;34m\u001b[0m\u001b[0m\n\u001b[1;32m     51\u001b[0m \u001b[0;34m\u001b[0m\u001b[0m\n",
      "\u001b[0;32m~/projects/DIANNA/dianna/dianna/__init__.py\u001b[0m in \u001b[0;36m_get_explainer\u001b[0;34m(method, kwargs)\u001b[0m\n\u001b[1;32m     69\u001b[0m \u001b[0;32mdef\u001b[0m \u001b[0m_get_explainer\u001b[0m\u001b[0;34m(\u001b[0m\u001b[0mmethod\u001b[0m\u001b[0;34m,\u001b[0m \u001b[0mkwargs\u001b[0m\u001b[0;34m)\u001b[0m\u001b[0;34m:\u001b[0m\u001b[0;34m\u001b[0m\u001b[0;34m\u001b[0m\u001b[0m\n\u001b[1;32m     70\u001b[0m     \u001b[0mmethod_class\u001b[0m \u001b[0;34m=\u001b[0m \u001b[0mgetattr\u001b[0m\u001b[0;34m(\u001b[0m\u001b[0mmethods\u001b[0m\u001b[0;34m,\u001b[0m \u001b[0mmethod\u001b[0m\u001b[0;34m)\u001b[0m\u001b[0;34m\u001b[0m\u001b[0;34m\u001b[0m\u001b[0m\n\u001b[0;32m---> 71\u001b[0;31m     \u001b[0;32mreturn\u001b[0m \u001b[0mmethod_class\u001b[0m\u001b[0;34m(\u001b[0m\u001b[0;34m**\u001b[0m\u001b[0mkwargs\u001b[0m\u001b[0;34m)\u001b[0m\u001b[0;34m\u001b[0m\u001b[0;34m\u001b[0m\u001b[0m\n\u001b[0m",
      "\u001b[0;31mTypeError\u001b[0m: __init__() got an unexpected keyword argument 'label'"
     ]
    }
   ],
   "source": [
    "explanation = dianna.explain_image(model_path, input_data, 'LIME', axes_labels=axis_labels, label=true_species_index)\n",
    "explanation.shape"
   ]
  },
  {
   "cell_type": "code",
   "execution_count": null,
   "id": "03035d25-6784-4914-be5e-3d3a8a2e453e",
   "metadata": {},
   "outputs": [],
   "source": [
    "## Using advanced interface until we can select label from top-level interface"
   ]
  },
  {
   "cell_type": "code",
   "execution_count": 27,
   "id": "04035177-8ef6-45a0-bcef-0b201851bea9",
   "metadata": {},
   "outputs": [
    {
     "data": {
      "application/vnd.jupyter.widget-view+json": {
       "model_id": "545c5bffccce46e6ac332166146609cd",
       "version_major": 2,
       "version_minor": 0
      },
      "text/plain": [
       "  0%|          | 0/1000 [00:00<?, ?it/s]"
      ]
     },
     "metadata": {},
     "output_type": "display_data"
    },
    {
     "data": {
      "text/plain": [
       "(128, 128)"
      ]
     },
     "execution_count": 27,
     "metadata": {},
     "output_type": "execute_result"
    }
   ],
   "source": [
    "from dianna.methods import LIME\n",
    "lime = LIME(axes_labels=axis_labels)\n",
    "heatmap = lime.explain_image(model_path, input_data, label=true_species_index,\n",
    "                                 hide_color=.5, distance_metric='euclidean',\n",
    "                                 num_samples=1000)\n",
    "heatmap.shape"
   ]
  },
  {
   "cell_type": "code",
   "execution_count": 47,
   "id": "0136005d-a22f-43a0-80da-4ec1f283f870",
   "metadata": {},
   "outputs": [
    {
     "data": {
      "image/png": "[encoded data removed]",
      "text/plain": [
       "<Figure size 432x288 with 1 Axes>"
      ]
     },
     "metadata": {
      "needs_background": "light"
     },
     "output_type": "display_data"
    },
    {
     "data": {
      "image/png": "[encoded data removed]",
      "text/plain": [
       "<Figure size 432x288 with 1 Axes>"
      ]
     },
     "metadata": {
      "needs_background": "light"
     },
     "output_type": "display_data"
    }
   ],
   "source": [
    "from dianna.visualization import plot_image\n",
    "\n",
    "plot_image(heatmap, show_plot=False)\n",
    "plt.title('Heatmap')\n",
    "plt.axis('off')\n",
    "\n",
    "plot_image(heatmap, original_data=img, show_plot=False)\n",
    "plt.title('Heatmap overlayed on original image')\n",
    "plt.axis('off')\n",
    "\n",
    "plt.show()"
   ]
  }
 ],
 "metadata": {
  "kernelspec": {
   "display_name": "Python 3 (ipykernel)",
   "language": "python",
   "name": "python3"
  },
  "language_info": {
   "codemirror_mode": {
    "name": "ipython",
    "version": 3
   },
   "file_extension": ".py",
   "mimetype": "text/x-python",
   "name": "python",
   "nbconvert_exporter": "python",
   "pygments_lexer": "ipython3",
   "version": "3.9.1"
  }
 },
 "nbformat": 4,
 "nbformat_minor": 5
}
