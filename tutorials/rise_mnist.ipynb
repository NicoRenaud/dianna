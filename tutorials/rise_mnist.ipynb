{
 "cells": [
  {
   "cell_type": "markdown",
   "id": "hispanic-instrumentation",
   "metadata": {},
   "source": [
    "<img width=\"150\" alt=\"Logo_ER10\" src=\"https://user-images.githubusercontent.com/3244249/151994514-b584b984-a148-4ade-80ee-0f88b0aefa45.png\">\n",
    "\n",
    "### Model Interpretation for Binary MNIST Model using RISE\n",
    "\n",
    "This notebook demonstrates how to apply the RISE explainability method on a pretrained binary MNIST model using a hand-written digit image. It visualizes the relevance attributions for each pixel/super-pixel by displaying them on top of the input image.<br>\n",
    "\n",
    "RISE is short for Randomized Input Sampling for Explanation of Black-box Models. It estimates the relevance empirically by probing the model with randomly masked versions of the input image to obtain the corresponding outputs.<br>\n",
    "\n",
    "More details about this method can be found in the paper https://arxiv.org/abs/1806.07421.<br>"
   ]
  },
  {
   "cell_type": "code",
   "execution_count": 49,
   "id": "instructional-threshold",
   "metadata": {},
   "outputs": [],
   "source": [
    "import warnings\n",
    "warnings.filterwarnings('ignore') # disable warnings relateds to versions of tf\n",
    "import dianna\n",
    "import onnxruntime\n",
    "import numpy as np\n",
    "%matplotlib inline\n",
    "from matplotlib import pyplot as plt\n",
    "from scipy.special import softmax\n",
    "from dianna import visualization"
   ]
  },
  {
   "cell_type": "markdown",
   "id": "4230e223",
   "metadata": {},
   "source": [
    "#### 1 - Loading the model and the dataset\n",
    "Loads pretrained binary MNIST model and the image to be explained."
   ]
  },
  {
   "cell_type": "markdown",
   "id": "33021625",
   "metadata": {},
   "source": [
    "Load saved binary MNIST data."
   ]
  },
  {
   "cell_type": "code",
   "execution_count": 50,
   "id": "configured-drill",
   "metadata": {},
   "outputs": [],
   "source": [
    "# load dataset\n",
    "data = np.load('./data/binary-mnist.npz')\n",
    "# load testing data and the related labels\n",
    "X_test = data['X_test'].astype(np.float32).reshape([-1, 1, 28, 28])\n",
    "y_test = data['y_test']"
   ]
  },
  {
   "cell_type": "code",
   "execution_count": 43,
   "id": "7f51a4d6",
   "metadata": {},
   "outputs": [
    {
     "name": "stdout",
     "output_type": "stream",
     "text": [
      "(28, 28, 1)\n"
     ]
    }
   ],
   "source": [
    "X_test = data['X_test'].astype(np.float32).reshape([-1, 28, 28, 1]) / 255\n",
    "print(X_test[3].shape)"
   ]
  },
  {
   "cell_type": "code",
   "execution_count": 44,
   "id": "9342bc3f",
   "metadata": {},
   "outputs": [],
   "source": [
    "from PIL import Image, ImageStat\n",
    "\n",
    "def open_image(path):\n",
    "    im = Image.open(path).convert(\"RGB\")\n",
    "    stat = ImageStat.Stat(im)\n",
    "    im = np.asarray(im).astype(np.float32)\n",
    "\n",
    "    if sum(stat.sum)/3 == stat.sum[0]: #check the avg with any element value\n",
    "        return np.expand_dims(im[:,:,0], axis=2) / 255 #if grayscale\n",
    "    else:\n",
    "        return im #else its colour\n",
    "\n",
    "path_colour = './img/bee.jpg'\n",
    "path_gray = '../dashboard/app_data/digit0.jpg'"
   ]
  },
  {
   "cell_type": "code",
   "execution_count": 48,
   "id": "f6820a31",
   "metadata": {},
   "outputs": [
    {
     "data": {
      "text/plain": [
       "1"
      ]
     },
     "execution_count": 48,
     "metadata": {},
     "output_type": "execute_result"
    }
   ],
   "source": [
    "X_test.shape[2]"
   ]
  },
  {
   "cell_type": "code",
   "execution_count": 45,
   "id": "7f896ff6",
   "metadata": {},
   "outputs": [
    {
     "name": "stdout",
     "output_type": "stream",
     "text": [
      "(28, 28, 1)\n"
     ]
    }
   ],
   "source": [
    "X_test = open_image(path_gray)\n",
    "print(X_test.shape)"
   ]
  },
  {
   "cell_type": "code",
   "execution_count": 40,
   "id": "d48197db",
   "metadata": {},
   "outputs": [
    {
     "data": {
      "application/vnd.plotly.v1+json": {
       "config": {
        "plotlyServerURL": "https://plot.ly"
       },
       "data": [
        {
         "colorscale": [
          [
           0,
           "rgb(0, 0, 0)"
          ],
          [
           0.09090909090909091,
           "rgb(16, 16, 16)"
          ],
          [
           0.18181818181818182,
           "rgb(38, 38, 38)"
          ],
          [
           0.2727272727272727,
           "rgb(59, 59, 59)"
          ],
          [
           0.36363636363636365,
           "rgb(81, 80, 80)"
          ],
          [
           0.45454545454545453,
           "rgb(102, 101, 101)"
          ],
          [
           0.5454545454545454,
           "rgb(124, 123, 122)"
          ],
          [
           0.6363636363636364,
           "rgb(146, 146, 145)"
          ],
          [
           0.7272727272727273,
           "rgb(171, 171, 170)"
          ],
          [
           0.8181818181818182,
           "rgb(197, 197, 195)"
          ],
          [
           0.9090909090909091,
           "rgb(224, 224, 223)"
          ],
          [
           1,
           "rgb(254, 254, 253)"
          ]
         ],
         "showscale": false,
         "type": "heatmap",
         "z": [
          [
           0,
           0,
           0,
           0,
           0,
           0,
           0,
           0,
           1,
           0,
           3,
           0,
           0,
           0,
           0,
           1,
           1,
           0,
           0,
           0,
           0,
           1,
           1,
           0,
           0,
           0,
           0,
           0
          ],
          [
           0,
           0,
           0,
           0,
           0,
           0,
           0,
           0,
           0,
           1,
           0,
           0,
           1,
           3,
           0,
           0,
           0,
           0,
           2,
           0,
           0,
           0,
           0,
           1,
           0,
           0,
           0,
           0
          ],
          [
           0,
           0,
           0,
           0,
           0,
           0,
           0,
           0,
           3,
           1,
           0,
           0,
           0,
           0,
           3,
           0,
           0,
           0,
           0,
           1,
           5,
           0,
           0,
           0,
           0,
           0,
           0,
           0
          ],
          [
           0,
           0,
           0,
           0,
           0,
           0,
           0,
           0,
           1,
           0,
           0,
           4,
           0,
           1,
           0,
           0,
           3,
           0,
           0,
           1,
           0,
           0,
           1,
           0,
           0,
           0,
           0,
           0
          ],
          [
           0,
           0,
           0,
           0,
           0,
           0,
           0,
           0,
           0,
           1,
           1,
           57,
           3,
           39,
           122,
           192,
           114,
           119,
           61,
           1,
           0,
           4,
           0,
           1,
           0,
           0,
           0,
           0
          ],
          [
           0,
           0,
           0,
           0,
           0,
           0,
           0,
           0,
           1,
           16,
           180,
           244,
           239,
           244,
           251,
           255,
           255,
           255,
           245,
           234,
           85,
           0,
           0,
           1,
           0,
           0,
           0,
           0
          ],
          [
           0,
           0,
           0,
           0,
           0,
           0,
           0,
           0,
           0,
           151,
           255,
           255,
           250,
           214,
           194,
           178,
           174,
           179,
           253,
           255,
           241,
           48,
           0,
           0,
           0,
           0,
           0,
           0
          ],
          [
           0,
           0,
           0,
           0,
           0,
           0,
           0,
           0,
           43,
           235,
           254,
           226,
           65,
           28,
           10,
           1,
           2,
           2,
           129,
           249,
           254,
           176,
           15,
           1,
           0,
           0,
           0,
           0
          ],
          [
           0,
           0,
           1,
           0,
           0,
           0,
           3,
           1,
           57,
           252,
           253,
           107,
           0,
           0,
           0,
           1,
           1,
           0,
           2,
           134,
           248,
           255,
           76,
           2,
           0,
           0,
           0,
           0
          ],
          [
           2,
           0,
           0,
           0,
           3,
           0,
           0,
           0,
           62,
           255,
           156,
           0,
           1,
           2,
           1,
           0,
           0,
           4,
           0,
           2,
           222,
           254,
           156,
           0,
           0,
           0,
           0,
           0
          ],
          [
           0,
           1,
           2,
           0,
           0,
           1,
           1,
           2,
           195,
           254,
           101,
           0,
           0,
           0,
           0,
           1,
           1,
           0,
           1,
           0,
           153,
           253,
           211,
           3,
           0,
           0,
           0,
           0
          ],
          [
           0,
           0,
           0,
           0,
           0,
           2,
           0,
           31,
           219,
           241,
           59,
           0,
           5,
           0,
           0,
           0,
           0,
           3,
           0,
           2,
           80,
           255,
           216,
           0,
           0,
           0,
           0,
           0
          ],
          [
           1,
           0,
           0,
           3,
           0,
           0,
           1,
           129,
           253,
           172,
           0,
           0,
           0,
           2,
           0,
           1,
           2,
           0,
           0,
           0,
           87,
           255,
           209,
           0,
           0,
           0,
           0,
           0
          ],
          [
           1,
           0,
           4,
           0,
           0,
           0,
           0,
           214,
           241,
           59,
           2,
           3,
           0,
           0,
           1,
           0,
           0,
           0,
           1,
           1,
           82,
           252,
           218,
           1,
           0,
           0,
           0,
           0
          ],
          [
           1,
           0,
           0,
           0,
           3,
           2,
           0,
           216,
           197,
           1,
           0,
           0,
           0,
           0,
           1,
           0,
           0,
           0,
           0,
           1,
           85,
           252,
           215,
           0,
           0,
           0,
           0,
           0
          ],
          [
           0,
           0,
           0,
           2,
           1,
           0,
           14,
           218,
           199,
           1,
           1,
           0,
           3,
           0,
           1,
           0,
           2,
           0,
           0,
           0,
           84,
           255,
           212,
           1,
           0,
           0,
           0,
           0
          ],
          [
           0,
           1,
           0,
           0,
           0,
           0,
           96,
           255,
           199,
           0,
           2,
           0,
           2,
           1,
           0,
           0,
           1,
           0,
           0,
           0,
           164,
           254,
           209,
           0,
           0,
           0,
           0,
           0
          ],
          [
           0,
           0,
           2,
           0,
           0,
           2,
           98,
           255,
           200,
           0,
           0,
           4,
           0,
           0,
           3,
           0,
           0,
           3,
           2,
           50,
           240,
           251,
           77,
           0,
           0,
           0,
           0,
           0
          ],
          [
           2,
           1,
           0,
           4,
           2,
           0,
           99,
           252,
           200,
           0,
           2,
           0,
           0,
           3,
           0,
           2,
           3,
           0,
           50,
           167,
           253,
           197,
           3,
           0,
           0,
           0,
           0,
           0
          ],
          [
           0,
           3,
           0,
           0,
           0,
           1,
           67,
           243,
           200,
           0,
           0,
           0,
           0,
           0,
           2,
           0,
           0,
           5,
           171,
           249,
           228,
           53,
           0,
           1,
           0,
           0,
           0,
           0
          ],
          [
           3,
           2,
           0,
           0,
           3,
           1,
           0,
           216,
           211,
           21,
           1,
           0,
           2,
           2,
           0,
           48,
           154,
           202,
           249,
           255,
           64,
           1,
           1,
           0,
           0,
           0,
           0,
           0
          ],
          [
           0,
           0,
           0,
           2,
           0,
           1,
           0,
           214,
           253,
           204,
           180,
           178,
           182,
           178,
           178,
           233,
           255,
           251,
           235,
           158,
           7,
           0,
           1,
           0,
           0,
           0,
           0,
           0
          ],
          [
           1,
           1,
           0,
           0,
           0,
           2,
           2,
           82,
           205,
           255,
           252,
           254,
           251,
           254,
           255,
           254,
           250,
           233,
           122,
           0,
           2,
           0,
           0,
           3,
           0,
           0,
           0,
           0
          ],
          [
           1,
           0,
           2,
           0,
           2,
           0,
           0,
           0,
           26,
           210,
           255,
           254,
           253,
           255,
           251,
           153,
           105,
           1,
           0,
           0,
           1,
           0,
           0,
           0,
           0,
           0,
           0,
           0
          ],
          [
           0,
           0,
           0,
           0,
           0,
           0,
           0,
           0,
           0,
           0,
           0,
           0,
           0,
           0,
           0,
           0,
           0,
           0,
           0,
           0,
           0,
           0,
           0,
           0,
           0,
           0,
           0,
           0
          ],
          [
           0,
           0,
           0,
           0,
           0,
           0,
           0,
           0,
           0,
           0,
           0,
           0,
           0,
           0,
           0,
           0,
           0,
           0,
           0,
           0,
           0,
           0,
           0,
           0,
           0,
           0,
           0,
           0
          ],
          [
           0,
           0,
           0,
           0,
           0,
           0,
           0,
           0,
           0,
           0,
           0,
           0,
           0,
           0,
           0,
           0,
           0,
           0,
           0,
           0,
           0,
           0,
           0,
           0,
           0,
           0,
           0,
           0
          ],
          [
           0,
           0,
           0,
           0,
           0,
           0,
           0,
           0,
           0,
           0,
           0,
           0,
           0,
           0,
           0,
           0,
           0,
           0,
           0,
           0,
           0,
           0,
           0,
           0,
           0,
           0,
           0,
           0
          ]
         ]
        }
       ],
       "layout": {
        "height": 300,
        "template": {
         "data": {
          "bar": [
           {
            "error_x": {
             "color": "#2a3f5f"
            },
            "error_y": {
             "color": "#2a3f5f"
            },
            "marker": {
             "line": {
              "color": "#E5ECF6",
              "width": 0.5
             },
             "pattern": {
              "fillmode": "overlay",
              "size": 10,
              "solidity": 0.2
             }
            },
            "type": "bar"
           }
          ],
          "barpolar": [
           {
            "marker": {
             "line": {
              "color": "#E5ECF6",
              "width": 0.5
             },
             "pattern": {
              "fillmode": "overlay",
              "size": 10,
              "solidity": 0.2
             }
            },
            "type": "barpolar"
           }
          ],
          "carpet": [
           {
            "aaxis": {
             "endlinecolor": "#2a3f5f",
             "gridcolor": "white",
             "linecolor": "white",
             "minorgridcolor": "white",
             "startlinecolor": "#2a3f5f"
            },
            "baxis": {
             "endlinecolor": "#2a3f5f",
             "gridcolor": "white",
             "linecolor": "white",
             "minorgridcolor": "white",
             "startlinecolor": "#2a3f5f"
            },
            "type": "carpet"
           }
          ],
          "choropleth": [
           {
            "colorbar": {
             "outlinewidth": 0,
             "ticks": ""
            },
            "type": "choropleth"
           }
          ],
          "contour": [
           {
            "colorbar": {
             "outlinewidth": 0,
             "ticks": ""
            },
            "colorscale": [
             [
              0,
              "#0d0887"
             ],
             [
              0.1111111111111111,
              "#46039f"
             ],
             [
              0.2222222222222222,
              "#7201a8"
             ],
             [
              0.3333333333333333,
              "#9c179e"
             ],
             [
              0.4444444444444444,
              "#bd3786"
             ],
             [
              0.5555555555555556,
              "#d8576b"
             ],
             [
              0.6666666666666666,
              "#ed7953"
             ],
             [
              0.7777777777777778,
              "#fb9f3a"
             ],
             [
              0.8888888888888888,
              "#fdca26"
             ],
             [
              1,
              "#f0f921"
             ]
            ],
            "type": "contour"
           }
          ],
          "contourcarpet": [
           {
            "colorbar": {
             "outlinewidth": 0,
             "ticks": ""
            },
            "type": "contourcarpet"
           }
          ],
          "heatmap": [
           {
            "colorbar": {
             "outlinewidth": 0,
             "ticks": ""
            },
            "colorscale": [
             [
              0,
              "#0d0887"
             ],
             [
              0.1111111111111111,
              "#46039f"
             ],
             [
              0.2222222222222222,
              "#7201a8"
             ],
             [
              0.3333333333333333,
              "#9c179e"
             ],
             [
              0.4444444444444444,
              "#bd3786"
             ],
             [
              0.5555555555555556,
              "#d8576b"
             ],
             [
              0.6666666666666666,
              "#ed7953"
             ],
             [
              0.7777777777777778,
              "#fb9f3a"
             ],
             [
              0.8888888888888888,
              "#fdca26"
             ],
             [
              1,
              "#f0f921"
             ]
            ],
            "type": "heatmap"
           }
          ],
          "heatmapgl": [
           {
            "colorbar": {
             "outlinewidth": 0,
             "ticks": ""
            },
            "colorscale": [
             [
              0,
              "#0d0887"
             ],
             [
              0.1111111111111111,
              "#46039f"
             ],
             [
              0.2222222222222222,
              "#7201a8"
             ],
             [
              0.3333333333333333,
              "#9c179e"
             ],
             [
              0.4444444444444444,
              "#bd3786"
             ],
             [
              0.5555555555555556,
              "#d8576b"
             ],
             [
              0.6666666666666666,
              "#ed7953"
             ],
             [
              0.7777777777777778,
              "#fb9f3a"
             ],
             [
              0.8888888888888888,
              "#fdca26"
             ],
             [
              1,
              "#f0f921"
             ]
            ],
            "type": "heatmapgl"
           }
          ],
          "histogram": [
           {
            "marker": {
             "pattern": {
              "fillmode": "overlay",
              "size": 10,
              "solidity": 0.2
             }
            },
            "type": "histogram"
           }
          ],
          "histogram2d": [
           {
            "colorbar": {
             "outlinewidth": 0,
             "ticks": ""
            },
            "colorscale": [
             [
              0,
              "#0d0887"
             ],
             [
              0.1111111111111111,
              "#46039f"
             ],
             [
              0.2222222222222222,
              "#7201a8"
             ],
             [
              0.3333333333333333,
              "#9c179e"
             ],
             [
              0.4444444444444444,
              "#bd3786"
             ],
             [
              0.5555555555555556,
              "#d8576b"
             ],
             [
              0.6666666666666666,
              "#ed7953"
             ],
             [
              0.7777777777777778,
              "#fb9f3a"
             ],
             [
              0.8888888888888888,
              "#fdca26"
             ],
             [
              1,
              "#f0f921"
             ]
            ],
            "type": "histogram2d"
           }
          ],
          "histogram2dcontour": [
           {
            "colorbar": {
             "outlinewidth": 0,
             "ticks": ""
            },
            "colorscale": [
             [
              0,
              "#0d0887"
             ],
             [
              0.1111111111111111,
              "#46039f"
             ],
             [
              0.2222222222222222,
              "#7201a8"
             ],
             [
              0.3333333333333333,
              "#9c179e"
             ],
             [
              0.4444444444444444,
              "#bd3786"
             ],
             [
              0.5555555555555556,
              "#d8576b"
             ],
             [
              0.6666666666666666,
              "#ed7953"
             ],
             [
              0.7777777777777778,
              "#fb9f3a"
             ],
             [
              0.8888888888888888,
              "#fdca26"
             ],
             [
              1,
              "#f0f921"
             ]
            ],
            "type": "histogram2dcontour"
           }
          ],
          "mesh3d": [
           {
            "colorbar": {
             "outlinewidth": 0,
             "ticks": ""
            },
            "type": "mesh3d"
           }
          ],
          "parcoords": [
           {
            "line": {
             "colorbar": {
              "outlinewidth": 0,
              "ticks": ""
             }
            },
            "type": "parcoords"
           }
          ],
          "pie": [
           {
            "automargin": true,
            "type": "pie"
           }
          ],
          "scatter": [
           {
            "marker": {
             "colorbar": {
              "outlinewidth": 0,
              "ticks": ""
             }
            },
            "type": "scatter"
           }
          ],
          "scatter3d": [
           {
            "line": {
             "colorbar": {
              "outlinewidth": 0,
              "ticks": ""
             }
            },
            "marker": {
             "colorbar": {
              "outlinewidth": 0,
              "ticks": ""
             }
            },
            "type": "scatter3d"
           }
          ],
          "scattercarpet": [
           {
            "marker": {
             "colorbar": {
              "outlinewidth": 0,
              "ticks": ""
             }
            },
            "type": "scattercarpet"
           }
          ],
          "scattergeo": [
           {
            "marker": {
             "colorbar": {
              "outlinewidth": 0,
              "ticks": ""
             }
            },
            "type": "scattergeo"
           }
          ],
          "scattergl": [
           {
            "marker": {
             "colorbar": {
              "outlinewidth": 0,
              "ticks": ""
             }
            },
            "type": "scattergl"
           }
          ],
          "scattermapbox": [
           {
            "marker": {
             "colorbar": {
              "outlinewidth": 0,
              "ticks": ""
             }
            },
            "type": "scattermapbox"
           }
          ],
          "scatterpolar": [
           {
            "marker": {
             "colorbar": {
              "outlinewidth": 0,
              "ticks": ""
             }
            },
            "type": "scatterpolar"
           }
          ],
          "scatterpolargl": [
           {
            "marker": {
             "colorbar": {
              "outlinewidth": 0,
              "ticks": ""
             }
            },
            "type": "scatterpolargl"
           }
          ],
          "scatterternary": [
           {
            "marker": {
             "colorbar": {
              "outlinewidth": 0,
              "ticks": ""
             }
            },
            "type": "scatterternary"
           }
          ],
          "surface": [
           {
            "colorbar": {
             "outlinewidth": 0,
             "ticks": ""
            },
            "colorscale": [
             [
              0,
              "#0d0887"
             ],
             [
              0.1111111111111111,
              "#46039f"
             ],
             [
              0.2222222222222222,
              "#7201a8"
             ],
             [
              0.3333333333333333,
              "#9c179e"
             ],
             [
              0.4444444444444444,
              "#bd3786"
             ],
             [
              0.5555555555555556,
              "#d8576b"
             ],
             [
              0.6666666666666666,
              "#ed7953"
             ],
             [
              0.7777777777777778,
              "#fb9f3a"
             ],
             [
              0.8888888888888888,
              "#fdca26"
             ],
             [
              1,
              "#f0f921"
             ]
            ],
            "type": "surface"
           }
          ],
          "table": [
           {
            "cells": {
             "fill": {
              "color": "#EBF0F8"
             },
             "line": {
              "color": "white"
             }
            },
            "header": {
             "fill": {
              "color": "#C8D4E3"
             },
             "line": {
              "color": "white"
             }
            },
            "type": "table"
           }
          ]
         },
         "layout": {
          "annotationdefaults": {
           "arrowcolor": "#2a3f5f",
           "arrowhead": 0,
           "arrowwidth": 1
          },
          "autotypenumbers": "strict",
          "coloraxis": {
           "colorbar": {
            "outlinewidth": 0,
            "ticks": ""
           }
          },
          "colorscale": {
           "diverging": [
            [
             0,
             "#8e0152"
            ],
            [
             0.1,
             "#c51b7d"
            ],
            [
             0.2,
             "#de77ae"
            ],
            [
             0.3,
             "#f1b6da"
            ],
            [
             0.4,
             "#fde0ef"
            ],
            [
             0.5,
             "#f7f7f7"
            ],
            [
             0.6,
             "#e6f5d0"
            ],
            [
             0.7,
             "#b8e186"
            ],
            [
             0.8,
             "#7fbc41"
            ],
            [
             0.9,
             "#4d9221"
            ],
            [
             1,
             "#276419"
            ]
           ],
           "sequential": [
            [
             0,
             "#0d0887"
            ],
            [
             0.1111111111111111,
             "#46039f"
            ],
            [
             0.2222222222222222,
             "#7201a8"
            ],
            [
             0.3333333333333333,
             "#9c179e"
            ],
            [
             0.4444444444444444,
             "#bd3786"
            ],
            [
             0.5555555555555556,
             "#d8576b"
            ],
            [
             0.6666666666666666,
             "#ed7953"
            ],
            [
             0.7777777777777778,
             "#fb9f3a"
            ],
            [
             0.8888888888888888,
             "#fdca26"
            ],
            [
             1,
             "#f0f921"
            ]
           ],
           "sequentialminus": [
            [
             0,
             "#0d0887"
            ],
            [
             0.1111111111111111,
             "#46039f"
            ],
            [
             0.2222222222222222,
             "#7201a8"
            ],
            [
             0.3333333333333333,
             "#9c179e"
            ],
            [
             0.4444444444444444,
             "#bd3786"
            ],
            [
             0.5555555555555556,
             "#d8576b"
            ],
            [
             0.6666666666666666,
             "#ed7953"
            ],
            [
             0.7777777777777778,
             "#fb9f3a"
            ],
            [
             0.8888888888888888,
             "#fdca26"
            ],
            [
             1,
             "#f0f921"
            ]
           ]
          },
          "colorway": [
           "#636efa",
           "#EF553B",
           "#00cc96",
           "#ab63fa",
           "#FFA15A",
           "#19d3f3",
           "#FF6692",
           "#B6E880",
           "#FF97FF",
           "#FECB52"
          ],
          "font": {
           "color": "#2a3f5f"
          },
          "geo": {
           "bgcolor": "white",
           "lakecolor": "white",
           "landcolor": "#E5ECF6",
           "showlakes": true,
           "showland": true,
           "subunitcolor": "white"
          },
          "hoverlabel": {
           "align": "left"
          },
          "hovermode": "closest",
          "mapbox": {
           "style": "light"
          },
          "paper_bgcolor": "white",
          "plot_bgcolor": "#E5ECF6",
          "polar": {
           "angularaxis": {
            "gridcolor": "white",
            "linecolor": "white",
            "ticks": ""
           },
           "bgcolor": "#E5ECF6",
           "radialaxis": {
            "gridcolor": "white",
            "linecolor": "white",
            "ticks": ""
           }
          },
          "scene": {
           "xaxis": {
            "backgroundcolor": "#E5ECF6",
            "gridcolor": "white",
            "gridwidth": 2,
            "linecolor": "white",
            "showbackground": true,
            "ticks": "",
            "zerolinecolor": "white"
           },
           "yaxis": {
            "backgroundcolor": "#E5ECF6",
            "gridcolor": "white",
            "gridwidth": 2,
            "linecolor": "white",
            "showbackground": true,
            "ticks": "",
            "zerolinecolor": "white"
           },
           "zaxis": {
            "backgroundcolor": "#E5ECF6",
            "gridcolor": "white",
            "gridwidth": 2,
            "linecolor": "white",
            "showbackground": true,
            "ticks": "",
            "zerolinecolor": "white"
           }
          },
          "shapedefaults": {
           "line": {
            "color": "#2a3f5f"
           }
          },
          "ternary": {
           "aaxis": {
            "gridcolor": "white",
            "linecolor": "white",
            "ticks": ""
           },
           "baxis": {
            "gridcolor": "white",
            "linecolor": "white",
            "ticks": ""
           },
           "bgcolor": "#E5ECF6",
           "caxis": {
            "gridcolor": "white",
            "linecolor": "white",
            "ticks": ""
           }
          },
          "title": {
           "x": 0.05
          },
          "xaxis": {
           "automargin": true,
           "gridcolor": "white",
           "linecolor": "white",
           "ticks": "",
           "title": {
            "standoff": 15
           },
           "zerolinecolor": "white",
           "zerolinewidth": 2
          },
          "yaxis": {
           "automargin": true,
           "gridcolor": "white",
           "linecolor": "white",
           "ticks": "",
           "title": {
            "standoff": 15
           },
           "zerolinecolor": "white",
           "zerolinewidth": 2
          }
         }
        },
        "width": 300,
        "xaxis": {
         "showgrid": false,
         "showticklabels": false,
         "zeroline": false
        },
        "yaxis": {
         "showgrid": false,
         "showticklabels": false,
         "zeroline": false
        }
       }
      }
     },
     "metadata": {},
     "output_type": "display_data"
    }
   ],
   "source": [
    "# Plotly\n",
    "import plotly.graph_objects as go\n",
    "from plotly.subplots import make_subplots\n",
    "\n",
    "fig = go.Figure()\n",
    "\n",
    "fig.add_trace(go.Heatmap(z=X_test[:,:,0], colorscale='gray', showscale=False))\n",
    "\n",
    "fig.update_layout(\n",
    "    width=300,\n",
    "    height=300)\n",
    "\n",
    "fig.update_xaxes(showgrid = False, showticklabels = False, zeroline=False)\n",
    "fig.update_yaxes(showgrid = False, showticklabels = False, zeroline=False)"
   ]
  },
  {
   "cell_type": "markdown",
   "id": "worst-gregory",
   "metadata": {},
   "source": [
    "Load the pretrained binary MNIST model and define a model runner."
   ]
  },
  {
   "cell_type": "code",
   "execution_count": 51,
   "id": "polar-placement",
   "metadata": {},
   "outputs": [],
   "source": [
    "def run_model(data):\n",
    "    fname = './models/mnist_model.onnx'\n",
    "    # get ONNX predictions\n",
    "    sess = onnxruntime.InferenceSession(fname)\n",
    "    input_name = sess.get_inputs()[0].name\n",
    "    output_name = sess.get_outputs()[0].name\n",
    "    \n",
    "    onnx_input = {input_name: data}\n",
    "    pred_onnx = sess.run([output_name], onnx_input)\n",
    "    \n",
    "    return softmax(pred_onnx[0], axis=1)\n",
    "\n",
    "pred_onnx = run_model(X_test)"
   ]
  },
  {
   "cell_type": "markdown",
   "id": "renewable-twelve",
   "metadata": {},
   "source": [
    "Print class and image of a single instance in the test data for preview."
   ]
  },
  {
   "cell_type": "code",
   "execution_count": 52,
   "id": "normal-wallet",
   "metadata": {},
   "outputs": [
    {
     "name": "stdout",
     "output_type": "stream",
     "text": [
      "The predicted class is: digit 0\n"
     ]
    },
    {
     "data": {
      "text/plain": [
       "<matplotlib.image.AxesImage at 0x2894b12e0>"
      ]
     },
     "execution_count": 52,
     "metadata": {},
     "output_type": "execute_result"
    },
    {
     "data": {
      "image/png": "[encoded data removed]",
      "text/plain": [
       "<Figure size 432x288 with 1 Axes>"
      ]
     },
     "metadata": {
      "needs_background": "light"
     },
     "output_type": "display_data"
    }
   ],
   "source": [
    "# class name\n",
    "class_name = ['digit 0', 'digit 1']\n",
    "# instance index\n",
    "i_instance = 3\n",
    "# predicted class\n",
    "pred_class = class_name[np.argmax(pred_onnx[i_instance])]\n",
    "print(\"The predicted class is:\", pred_class)\n",
    "plt.imshow(X_test[i_instance][0], cmap='gray')  # 0 for channel"
   ]
  },
  {
   "cell_type": "code",
   "execution_count": 55,
   "id": "5210b9ef",
   "metadata": {},
   "outputs": [
    {
     "data": {
      "text/plain": [
       "2"
      ]
     },
     "execution_count": 55,
     "metadata": {},
     "output_type": "execute_result"
    }
   ],
   "source": [
    "len(pred_onnx[3])"
   ]
  },
  {
   "cell_type": "code",
   "execution_count": 56,
   "id": "57135f9f",
   "metadata": {},
   "outputs": [
    {
     "name": "stderr",
     "output_type": "stream",
     "text": [
      "2022-04-04 17:51:15.613264: I tensorflow/core/common_runtime/pluggable_device/pluggable_device_factory.cc:305] Could not identify NUMA node of platform GPU ID 0, defaulting to 0. Your kernel may not have been built with NUMA support.\n",
      "2022-04-04 17:51:15.613395: I tensorflow/core/common_runtime/pluggable_device/pluggable_device_factory.cc:271] Created TensorFlow device (/job:localhost/replica:0/task:0/device:GPU:0 with 0 MB memory) -> physical PluggableDevice (device: 0, name: METAL, pci bus id: <undefined>)\n"
     ]
    },
    {
     "name": "stdout",
     "output_type": "stream",
     "text": [
      "Metal device set to: Apple M1 Pro\n",
      "\n",
      "systemMemory: 32.00 GB\n",
      "maxCacheSize: 10.67 GB\n",
      "\n"
     ]
    },
    {
     "name": "stderr",
     "output_type": "stream",
     "text": [
      "2022-04-04 17:51:17.959466: W tensorflow/core/platform/profile_utils/cpu_utils.cc:128] Failed to get CPU frequency: 0 Hz\n",
      "2022-04-04 17:51:17.959520: I tensorflow/core/grappler/optimizers/custom_graph_optimizer_registry.cc:113] Plugin optimizer for device_type GPU is enabled.\n"
     ]
    }
   ],
   "source": [
    "import onnx\n",
    "import onnxruntime\n",
    "from onnx_tf.backend import prepare\n",
    "X_test = open_image(path_gray)\n",
    "\n",
    "onnx_model = onnx.load('./models/mnist_model_tf.onnx')\n",
    "                # get the output node\n",
    "output_node = prepare(onnx_model, gen_tensor_dict=True).outputs[0]\n",
    "predictions = prepare(onnx_model).run(X_test[None, ...])[f'{output_node}']"
   ]
  },
  {
   "cell_type": "code",
   "execution_count": 62,
   "id": "c860a3a5",
   "metadata": {},
   "outputs": [
    {
     "data": {
      "text/plain": [
       "2"
      ]
     },
     "execution_count": 62,
     "metadata": {},
     "output_type": "execute_result"
    }
   ],
   "source": [
    "len(predictions[0])"
   ]
  },
  {
   "cell_type": "code",
   "execution_count": null,
   "id": "bf4084c8",
   "metadata": {},
   "outputs": [],
   "source": [
    "fig.update_layout(\n",
    "    paper_bgcolor=layouts.colors['blue4'],\n",
    "    plot_bgcolor = layouts.colors['blue4'])\n",
    "fig.update_xaxes(gridcolor = layouts.colors['blue4'], showticklabels = False, zerolinecolor=layouts.colors['blue4'])\n",
    "fig.update_yaxes(gridcolor = layouts.colors['blue4'], showticklabels = False, zerolinecolor=layouts.colors['blue4'])\n"
   ]
  },
  {
   "cell_type": "code",
   "execution_count": 67,
   "id": "f3511755",
   "metadata": {},
   "outputs": [
    {
     "ename": "ValueError",
     "evalue": "\n    Invalid element(s) received for the 'annotations' property of layout\n        Invalid elements include: ['bla']\n\n    The 'annotations' property is a tuple of instances of\n    Annotation that may be specified as:\n      - A list or tuple of instances of plotly.graph_objs.layout.Annotation\n      - A list or tuple of dicts of string/value properties that\n        will be passed to the Annotation constructor\n\n        Supported dict properties:\n            \n            align\n                Sets the horizontal alignment of the `text`\n                within the box. Has an effect only if `text`\n                spans two or more lines (i.e. `text` contains\n                one or more <br> HTML tags) or if an explicit\n                width is set to override the text width.\n            arrowcolor\n                Sets the color of the annotation arrow.\n            arrowhead\n                Sets the end annotation arrow head style.\n            arrowside\n                Sets the annotation arrow head position.\n            arrowsize\n                Sets the size of the end annotation arrow head,\n                relative to `arrowwidth`. A value of 1\n                (default) gives a head about 3x as wide as the\n                line.\n            arrowwidth\n                Sets the width (in px) of annotation arrow\n                line.\n            ax\n                Sets the x component of the arrow tail about\n                the arrow head. If `axref` is `pixel`, a\n                positive (negative) component corresponds to an\n                arrow pointing from right to left (left to\n                right). If `axref` is not `pixel` and is\n                exactly the same as `xref`, this is an absolute\n                value on that axis, like `x`, specified in the\n                same coordinates as `xref`.\n            axref\n                Indicates in what coordinates the tail of the\n                annotation (ax,ay) is specified. If set to a ax\n                axis id (e.g. \"ax\" or \"ax2\"), the `ax` position\n                refers to a ax coordinate. If set to \"paper\",\n                the `ax` position refers to the distance from\n                the left of the plotting area in normalized\n                coordinates where 0 (1) corresponds to the left\n                (right). If set to a ax axis ID followed by\n                \"domain\" (separated by a space), the position\n                behaves like for \"paper\", but refers to the\n                distance in fractions of the domain length from\n                the left of the domain of that axis: e.g., *ax2\n                domain* refers to the domain of the second ax\n                axis and a ax position of 0.5 refers to the\n                point between the left and the right of the\n                domain of the second ax axis. In order for\n                absolute positioning of the arrow to work,\n                \"axref\" must be exactly the same as \"xref\",\n                otherwise \"axref\" will revert to \"pixel\"\n                (explained next). For relative positioning,\n                \"axref\" can be set to \"pixel\", in which case\n                the \"ax\" value is specified in pixels relative\n                to \"x\". Absolute positioning is useful for\n                trendline annotations which should continue to\n                indicate the correct trend when zoomed.\n                Relative positioning is useful for specifying\n                the text offset for an annotated point.\n            ay\n                Sets the y component of the arrow tail about\n                the arrow head. If `ayref` is `pixel`, a\n                positive (negative) component corresponds to an\n                arrow pointing from bottom to top (top to\n                bottom). If `ayref` is not `pixel` and is\n                exactly the same as `yref`, this is an absolute\n                value on that axis, like `y`, specified in the\n                same coordinates as `yref`.\n            ayref\n                Indicates in what coordinates the tail of the\n                annotation (ax,ay) is specified. If set to a ay\n                axis id (e.g. \"ay\" or \"ay2\"), the `ay` position\n                refers to a ay coordinate. If set to \"paper\",\n                the `ay` position refers to the distance from\n                the bottom of the plotting area in normalized\n                coordinates where 0 (1) corresponds to the\n                bottom (top). If set to a ay axis ID followed\n                by \"domain\" (separated by a space), the\n                position behaves like for \"paper\", but refers\n                to the distance in fractions of the domain\n                length from the bottom of the domain of that\n                axis: e.g., *ay2 domain* refers to the domain\n                of the second ay  axis and a ay position of 0.5\n                refers to the point between the bottom and the\n                top of the domain of the second ay axis. In\n                order for absolute positioning of the arrow to\n                work, \"ayref\" must be exactly the same as\n                \"yref\", otherwise \"ayref\" will revert to\n                \"pixel\" (explained next). For relative\n                positioning, \"ayref\" can be set to \"pixel\", in\n                which case the \"ay\" value is specified in\n                pixels relative to \"y\". Absolute positioning is\n                useful for trendline annotations which should\n                continue to indicate the correct trend when\n                zoomed. Relative positioning is useful for\n                specifying the text offset for an annotated\n                point.\n            bgcolor\n                Sets the background color of the annotation.\n            bordercolor\n                Sets the color of the border enclosing the\n                annotation `text`.\n            borderpad\n                Sets the padding (in px) between the `text` and\n                the enclosing border.\n            borderwidth\n                Sets the width (in px) of the border enclosing\n                the annotation `text`.\n            captureevents\n                Determines whether the annotation text box\n                captures mouse move and click events, or allows\n                those events to pass through to data points in\n                the plot that may be behind the annotation. By\n                default `captureevents` is False unless\n                `hovertext` is provided. If you use the event\n                `plotly_clickannotation` without `hovertext`\n                you must explicitly enable `captureevents`.\n            clicktoshow\n                Makes this annotation respond to clicks on the\n                plot. If you click a data point that exactly\n                matches the `x` and `y` values of this\n                annotation, and it is hidden (visible: false),\n                it will appear. In \"onoff\" mode, you must click\n                the same point again to make it disappear, so\n                if you click multiple points, you can show\n                multiple annotations. In \"onout\" mode, a click\n                anywhere else in the plot (on another data\n                point or not) will hide this annotation. If you\n                need to show/hide this annotation in response\n                to different `x` or `y` values, you can set\n                `xclick` and/or `yclick`. This is useful for\n                example to label the side of a bar. To label\n                markers though, `standoff` is preferred over\n                `xclick` and `yclick`.\n            font\n                Sets the annotation text font.\n            height\n                Sets an explicit height for the text box. null\n                (default) lets the text set the box height.\n                Taller text will be clipped.\n            hoverlabel\n                :class:`plotly.graph_objects.layout.annotation.\n                Hoverlabel` instance or dict with compatible\n                properties\n            hovertext\n                Sets text to appear when hovering over this\n                annotation. If omitted or blank, no hover label\n                will appear.\n            name\n                When used in a template, named items are\n                created in the output figure in addition to any\n                items the figure already has in this array. You\n                can modify these items in the output figure by\n                making your own item with `templateitemname`\n                matching this `name` alongside your\n                modifications (including `visible: false` or\n                `enabled: false` to hide it). Has no effect\n                outside of a template.\n            opacity\n                Sets the opacity of the annotation (text +\n                arrow).\n            showarrow\n                Determines whether or not the annotation is\n                drawn with an arrow. If True, `text` is placed\n                near the arrow's tail. If False, `text` lines\n                up with the `x` and `y` provided.\n            standoff\n                Sets a distance, in pixels, to move the end\n                arrowhead away from the position it is pointing\n                at, for example to point at the edge of a\n                marker independent of zoom. Note that this\n                shortens the arrow from the `ax` / `ay` vector,\n                in contrast to `xshift` / `yshift` which moves\n                everything by this amount.\n            startarrowhead\n                Sets the start annotation arrow head style.\n            startarrowsize\n                Sets the size of the start annotation arrow\n                head, relative to `arrowwidth`. A value of 1\n                (default) gives a head about 3x as wide as the\n                line.\n            startstandoff\n                Sets a distance, in pixels, to move the start\n                arrowhead away from the position it is pointing\n                at, for example to point at the edge of a\n                marker independent of zoom. Note that this\n                shortens the arrow from the `ax` / `ay` vector,\n                in contrast to `xshift` / `yshift` which moves\n                everything by this amount.\n            templateitemname\n                Used to refer to a named item in this array in\n                the template. Named items from the template\n                will be created even without a matching item in\n                the input figure, but you can modify one by\n                making an item with `templateitemname` matching\n                its `name`, alongside your modifications\n                (including `visible: false` or `enabled: false`\n                to hide it). If there is no template or no\n                matching item, this item will be hidden unless\n                you explicitly show it with `visible: true`.\n            text\n                Sets the text associated with this annotation.\n                Plotly uses a subset of HTML tags to do things\n                like newline (<br>), bold (<b></b>), italics\n                (<i></i>), hyperlinks (<a href='...'></a>).\n                Tags <em>, <sup>, <sub> <span> are also\n                supported.\n            textangle\n                Sets the angle at which the `text` is drawn\n                with respect to the horizontal.\n            valign\n                Sets the vertical alignment of the `text`\n                within the box. Has an effect only if an\n                explicit height is set to override the text\n                height.\n            visible\n                Determines whether or not this annotation is\n                visible.\n            width\n                Sets an explicit width for the text box. null\n                (default) lets the text set the box width.\n                Wider text will be clipped. There is no\n                automatic wrapping; use <br> to start a new\n                line.\n            x\n                Sets the annotation's x position. If the axis\n                `type` is \"log\", then you must take the log of\n                your desired range. If the axis `type` is\n                \"date\", it should be date strings, like date\n                data, though Date objects and unix milliseconds\n                will be accepted and converted to strings. If\n                the axis `type` is \"category\", it should be\n                numbers, using the scale where each category is\n                assigned a serial number from zero in the order\n                it appears.\n            xanchor\n                Sets the text box's horizontal position anchor\n                This anchor binds the `x` position to the\n                \"left\", \"center\" or \"right\" of the annotation.\n                For example, if `x` is set to 1, `xref` to\n                \"paper\" and `xanchor` to \"right\" then the\n                right-most portion of the annotation lines up\n                with the right-most edge of the plotting area.\n                If \"auto\", the anchor is equivalent to \"center\"\n                for data-referenced annotations or if there is\n                an arrow, whereas for paper-referenced with no\n                arrow, the anchor picked corresponds to the\n                closest side.\n            xclick\n                Toggle this annotation when clicking a data\n                point whose `x` value is `xclick` rather than\n                the annotation's `x` value.\n            xref\n                Sets the annotation's x coordinate axis. If set\n                to a x axis id (e.g. \"x\" or \"x2\"), the `x`\n                position refers to a x coordinate. If set to\n                \"paper\", the `x` position refers to the\n                distance from the left of the plotting area in\n                normalized coordinates where 0 (1) corresponds\n                to the left (right). If set to a x axis ID\n                followed by \"domain\" (separated by a space),\n                the position behaves like for \"paper\", but\n                refers to the distance in fractions of the\n                domain length from the left of the domain of\n                that axis: e.g., *x2 domain* refers to the\n                domain of the second x  axis and a x position\n                of 0.5 refers to the point between the left and\n                the right of the domain of the second x axis.\n            xshift\n                Shifts the position of the whole annotation and\n                arrow to the right (positive) or left\n                (negative) by this many pixels.\n            y\n                Sets the annotation's y position. If the axis\n                `type` is \"log\", then you must take the log of\n                your desired range. If the axis `type` is\n                \"date\", it should be date strings, like date\n                data, though Date objects and unix milliseconds\n                will be accepted and converted to strings. If\n                the axis `type` is \"category\", it should be\n                numbers, using the scale where each category is\n                assigned a serial number from zero in the order\n                it appears.\n            yanchor\n                Sets the text box's vertical position anchor\n                This anchor binds the `y` position to the\n                \"top\", \"middle\" or \"bottom\" of the annotation.\n                For example, if `y` is set to 1, `yref` to\n                \"paper\" and `yanchor` to \"top\" then the top-\n                most portion of the annotation lines up with\n                the top-most edge of the plotting area. If\n                \"auto\", the anchor is equivalent to \"middle\"\n                for data-referenced annotations or if there is\n                an arrow, whereas for paper-referenced with no\n                arrow, the anchor picked corresponds to the\n                closest side.\n            yclick\n                Toggle this annotation when clicking a data\n                point whose `y` value is `yclick` rather than\n                the annotation's `y` value.\n            yref\n                Sets the annotation's y coordinate axis. If set\n                to a y axis id (e.g. \"y\" or \"y2\"), the `y`\n                position refers to a y coordinate. If set to\n                \"paper\", the `y` position refers to the\n                distance from the bottom of the plotting area\n                in normalized coordinates where 0 (1)\n                corresponds to the bottom (top). If set to a y\n                axis ID followed by \"domain\" (separated by a\n                space), the position behaves like for \"paper\",\n                but refers to the distance in fractions of the\n                domain length from the bottom of the domain of\n                that axis: e.g., *y2 domain* refers to the\n                domain of the second y  axis and a y position\n                of 0.5 refers to the point between the bottom\n                and the top of the domain of the second y axis.\n            yshift\n                Shifts the position of the whole annotation and\n                arrow up (positive) or down (negative) by this\n                many pixels.\n",
     "output_type": "error",
     "traceback": [
      "\u001b[0;31m---------------------------------------------------------------------------\u001b[0m",
      "\u001b[0;31mValueError\u001b[0m                                Traceback (most recent call last)",
      "\u001b[1;32m/Users/giuliacrocioni/Desktop/eScience/projects_2022/DIANNA/dianna/tutorials/rise_mnist.ipynb Cell 19'\u001b[0m in \u001b[0;36m<cell line: 9>\u001b[0;34m()\u001b[0m\n\u001b[1;32m      <a href='vscode-notebook-cell:/Users/giuliacrocioni/Desktop/eScience/projects_2022/DIANNA/dianna/tutorials/rise_mnist.ipynb#ch0000031?line=2'>3</a>\u001b[0m \u001b[39m#fig.add_trace(go.Heatmap(z=X_test[:,:,0], colorscale='gray', showscale=False))\u001b[39;00m\n\u001b[1;32m      <a href='vscode-notebook-cell:/Users/giuliacrocioni/Desktop/eScience/projects_2022/DIANNA/dianna/tutorials/rise_mnist.ipynb#ch0000031?line=4'>5</a>\u001b[0m fig\u001b[39m.\u001b[39mupdate_layout(\n\u001b[1;32m      <a href='vscode-notebook-cell:/Users/giuliacrocioni/Desktop/eScience/projects_2022/DIANNA/dianna/tutorials/rise_mnist.ipynb#ch0000031?line=5'>6</a>\u001b[0m     paper_bgcolor\u001b[39m=\u001b[39m\u001b[39m'\u001b[39m\u001b[39m#E4F3F9\u001b[39m\u001b[39m'\u001b[39m,\n\u001b[1;32m      <a href='vscode-notebook-cell:/Users/giuliacrocioni/Desktop/eScience/projects_2022/DIANNA/dianna/tutorials/rise_mnist.ipynb#ch0000031?line=6'>7</a>\u001b[0m     plot_bgcolor \u001b[39m=\u001b[39m \u001b[39m'\u001b[39m\u001b[39m#E4F3F9\u001b[39m\u001b[39m'\u001b[39m)\n\u001b[0;32m----> <a href='vscode-notebook-cell:/Users/giuliacrocioni/Desktop/eScience/projects_2022/DIANNA/dianna/tutorials/rise_mnist.ipynb#ch0000031?line=8'>9</a>\u001b[0m fig\u001b[39m.\u001b[39;49mupdate_layout(\n\u001b[1;32m     <a href='vscode-notebook-cell:/Users/giuliacrocioni/Desktop/eScience/projects_2022/DIANNA/dianna/tutorials/rise_mnist.ipynb#ch0000031?line=9'>10</a>\u001b[0m     width\u001b[39m=\u001b[39;49m\u001b[39m300\u001b[39;49m,\n\u001b[1;32m     <a href='vscode-notebook-cell:/Users/giuliacrocioni/Desktop/eScience/projects_2022/DIANNA/dianna/tutorials/rise_mnist.ipynb#ch0000031?line=10'>11</a>\u001b[0m     height\u001b[39m=\u001b[39;49m\u001b[39m300\u001b[39;49m,\n\u001b[1;32m     <a href='vscode-notebook-cell:/Users/giuliacrocioni/Desktop/eScience/projects_2022/DIANNA/dianna/tutorials/rise_mnist.ipynb#ch0000031?line=11'>12</a>\u001b[0m     annotations \u001b[39m=\u001b[39;49m [\u001b[39m'\u001b[39;49m\u001b[39mbla\u001b[39;49m\u001b[39m'\u001b[39;49m])\n\u001b[1;32m     <a href='vscode-notebook-cell:/Users/giuliacrocioni/Desktop/eScience/projects_2022/DIANNA/dianna/tutorials/rise_mnist.ipynb#ch0000031?line=13'>14</a>\u001b[0m fig\u001b[39m.\u001b[39mupdate_xaxes(showgrid \u001b[39m=\u001b[39m \u001b[39mFalse\u001b[39;00m, showticklabels \u001b[39m=\u001b[39m \u001b[39mFalse\u001b[39;00m, zeroline\u001b[39m=\u001b[39m\u001b[39mFalse\u001b[39;00m)\n\u001b[1;32m     <a href='vscode-notebook-cell:/Users/giuliacrocioni/Desktop/eScience/projects_2022/DIANNA/dianna/tutorials/rise_mnist.ipynb#ch0000031?line=14'>15</a>\u001b[0m fig\u001b[39m.\u001b[39mupdate_yaxes(showgrid \u001b[39m=\u001b[39m \u001b[39mFalse\u001b[39;00m, showticklabels \u001b[39m=\u001b[39m \u001b[39mFalse\u001b[39;00m, zeroline\u001b[39m=\u001b[39m\u001b[39mFalse\u001b[39;00m)\n",
      "File \u001b[0;32m~/miniforge3/envs/dianna_new/lib/python3.9/site-packages/plotly/basedatatypes.py:1403\u001b[0m, in \u001b[0;36mBaseFigure.update_layout\u001b[0;34m(self, dict1, overwrite, **kwargs)\u001b[0m\n\u001b[1;32m   <a href='file:///Users/giuliacrocioni/miniforge3/envs/dianna_new/lib/python3.9/site-packages/plotly/basedatatypes.py?line=1378'>1379</a>\u001b[0m \u001b[39mdef\u001b[39;00m \u001b[39mupdate_layout\u001b[39m(\u001b[39mself\u001b[39m, dict1\u001b[39m=\u001b[39m\u001b[39mNone\u001b[39;00m, overwrite\u001b[39m=\u001b[39m\u001b[39mFalse\u001b[39;00m, \u001b[39m*\u001b[39m\u001b[39m*\u001b[39mkwargs):\n\u001b[1;32m   <a href='file:///Users/giuliacrocioni/miniforge3/envs/dianna_new/lib/python3.9/site-packages/plotly/basedatatypes.py?line=1379'>1380</a>\u001b[0m     \u001b[39m\"\"\"\u001b[39;00m\n\u001b[1;32m   <a href='file:///Users/giuliacrocioni/miniforge3/envs/dianna_new/lib/python3.9/site-packages/plotly/basedatatypes.py?line=1380'>1381</a>\u001b[0m \u001b[39m    Update the properties of the figure's layout with a dict and/or with\u001b[39;00m\n\u001b[1;32m   <a href='file:///Users/giuliacrocioni/miniforge3/envs/dianna_new/lib/python3.9/site-packages/plotly/basedatatypes.py?line=1381'>1382</a>\u001b[0m \u001b[39m    keyword arguments.\u001b[39;00m\n\u001b[0;32m   (...)\u001b[0m\n\u001b[1;32m   <a href='file:///Users/giuliacrocioni/miniforge3/envs/dianna_new/lib/python3.9/site-packages/plotly/basedatatypes.py?line=1400'>1401</a>\u001b[0m \u001b[39m        The Figure object that the update_layout method was called on\u001b[39;00m\n\u001b[1;32m   <a href='file:///Users/giuliacrocioni/miniforge3/envs/dianna_new/lib/python3.9/site-packages/plotly/basedatatypes.py?line=1401'>1402</a>\u001b[0m \u001b[39m    \"\"\"\u001b[39;00m\n\u001b[0;32m-> <a href='file:///Users/giuliacrocioni/miniforge3/envs/dianna_new/lib/python3.9/site-packages/plotly/basedatatypes.py?line=1402'>1403</a>\u001b[0m     \u001b[39mself\u001b[39;49m\u001b[39m.\u001b[39;49mlayout\u001b[39m.\u001b[39;49mupdate(dict1, overwrite\u001b[39m=\u001b[39;49moverwrite, \u001b[39m*\u001b[39;49m\u001b[39m*\u001b[39;49mkwargs)\n\u001b[1;32m   <a href='file:///Users/giuliacrocioni/miniforge3/envs/dianna_new/lib/python3.9/site-packages/plotly/basedatatypes.py?line=1403'>1404</a>\u001b[0m     \u001b[39mreturn\u001b[39;00m \u001b[39mself\u001b[39m\n",
      "File \u001b[0;32m~/miniforge3/envs/dianna_new/lib/python3.9/site-packages/plotly/basedatatypes.py:5090\u001b[0m, in \u001b[0;36mBasePlotlyType.update\u001b[0;34m(self, dict1, overwrite, **kwargs)\u001b[0m\n\u001b[1;32m   <a href='file:///Users/giuliacrocioni/miniforge3/envs/dianna_new/lib/python3.9/site-packages/plotly/basedatatypes.py?line=5087'>5088</a>\u001b[0m     \u001b[39mwith\u001b[39;00m \u001b[39mself\u001b[39m\u001b[39m.\u001b[39mfigure\u001b[39m.\u001b[39mbatch_update():\n\u001b[1;32m   <a href='file:///Users/giuliacrocioni/miniforge3/envs/dianna_new/lib/python3.9/site-packages/plotly/basedatatypes.py?line=5088'>5089</a>\u001b[0m         BaseFigure\u001b[39m.\u001b[39m_perform_update(\u001b[39mself\u001b[39m, dict1, overwrite\u001b[39m=\u001b[39moverwrite)\n\u001b[0;32m-> <a href='file:///Users/giuliacrocioni/miniforge3/envs/dianna_new/lib/python3.9/site-packages/plotly/basedatatypes.py?line=5089'>5090</a>\u001b[0m         BaseFigure\u001b[39m.\u001b[39;49m_perform_update(\u001b[39mself\u001b[39;49m, kwargs, overwrite\u001b[39m=\u001b[39;49moverwrite)\n\u001b[1;32m   <a href='file:///Users/giuliacrocioni/miniforge3/envs/dianna_new/lib/python3.9/site-packages/plotly/basedatatypes.py?line=5090'>5091</a>\u001b[0m \u001b[39melse\u001b[39;00m:\n\u001b[1;32m   <a href='file:///Users/giuliacrocioni/miniforge3/envs/dianna_new/lib/python3.9/site-packages/plotly/basedatatypes.py?line=5091'>5092</a>\u001b[0m     BaseFigure\u001b[39m.\u001b[39m_perform_update(\u001b[39mself\u001b[39m, dict1, overwrite\u001b[39m=\u001b[39moverwrite)\n",
      "File \u001b[0;32m~/miniforge3/envs/dianna_new/lib/python3.9/site-packages/plotly/basedatatypes.py:3926\u001b[0m, in \u001b[0;36mBaseFigure._perform_update\u001b[0;34m(plotly_obj, update_obj, overwrite)\u001b[0m\n\u001b[1;32m   <a href='file:///Users/giuliacrocioni/miniforge3/envs/dianna_new/lib/python3.9/site-packages/plotly/basedatatypes.py?line=3919'>3920</a>\u001b[0m             plotly_obj[key] \u001b[39m=\u001b[39m plotly_obj[key] \u001b[39m+\u001b[39m \u001b[39mtuple\u001b[39m(\n\u001b[1;32m   <a href='file:///Users/giuliacrocioni/miniforge3/envs/dianna_new/lib/python3.9/site-packages/plotly/basedatatypes.py?line=3920'>3921</a>\u001b[0m                 val[\u001b[39mlen\u001b[39m(plotly_obj[key]) :]\n\u001b[1;32m   <a href='file:///Users/giuliacrocioni/miniforge3/envs/dianna_new/lib/python3.9/site-packages/plotly/basedatatypes.py?line=3921'>3922</a>\u001b[0m             )\n\u001b[1;32m   <a href='file:///Users/giuliacrocioni/miniforge3/envs/dianna_new/lib/python3.9/site-packages/plotly/basedatatypes.py?line=3922'>3923</a>\u001b[0m     \u001b[39melse\u001b[39;00m:\n\u001b[1;32m   <a href='file:///Users/giuliacrocioni/miniforge3/envs/dianna_new/lib/python3.9/site-packages/plotly/basedatatypes.py?line=3923'>3924</a>\u001b[0m         \u001b[39m# plotly_obj is an empty or uninitialized list for key\u001b[39;00m\n\u001b[1;32m   <a href='file:///Users/giuliacrocioni/miniforge3/envs/dianna_new/lib/python3.9/site-packages/plotly/basedatatypes.py?line=3924'>3925</a>\u001b[0m         \u001b[39m# In this case we accept val as is\u001b[39;00m\n\u001b[0;32m-> <a href='file:///Users/giuliacrocioni/miniforge3/envs/dianna_new/lib/python3.9/site-packages/plotly/basedatatypes.py?line=3925'>3926</a>\u001b[0m         plotly_obj[key] \u001b[39m=\u001b[39m val\n\u001b[1;32m   <a href='file:///Users/giuliacrocioni/miniforge3/envs/dianna_new/lib/python3.9/site-packages/plotly/basedatatypes.py?line=3926'>3927</a>\u001b[0m \u001b[39melse\u001b[39;00m:\n\u001b[1;32m   <a href='file:///Users/giuliacrocioni/miniforge3/envs/dianna_new/lib/python3.9/site-packages/plotly/basedatatypes.py?line=3927'>3928</a>\u001b[0m     \u001b[39m# Assign non-compound value\u001b[39;00m\n\u001b[1;32m   <a href='file:///Users/giuliacrocioni/miniforge3/envs/dianna_new/lib/python3.9/site-packages/plotly/basedatatypes.py?line=3928'>3929</a>\u001b[0m     plotly_obj[key] \u001b[39m=\u001b[39m val\n",
      "File \u001b[0;32m~/miniforge3/envs/dianna_new/lib/python3.9/site-packages/plotly/basedatatypes.py:5829\u001b[0m, in \u001b[0;36mBaseLayoutType.__setitem__\u001b[0;34m(self, prop, value)\u001b[0m\n\u001b[1;32m   <a href='file:///Users/giuliacrocioni/miniforge3/envs/dianna_new/lib/python3.9/site-packages/plotly/basedatatypes.py?line=5825'>5826</a>\u001b[0m match \u001b[39m=\u001b[39m \u001b[39mself\u001b[39m\u001b[39m.\u001b[39m_subplot_re_match(prop)\n\u001b[1;32m   <a href='file:///Users/giuliacrocioni/miniforge3/envs/dianna_new/lib/python3.9/site-packages/plotly/basedatatypes.py?line=5826'>5827</a>\u001b[0m \u001b[39mif\u001b[39;00m match \u001b[39mis\u001b[39;00m \u001b[39mNone\u001b[39;00m:\n\u001b[1;32m   <a href='file:///Users/giuliacrocioni/miniforge3/envs/dianna_new/lib/python3.9/site-packages/plotly/basedatatypes.py?line=5827'>5828</a>\u001b[0m     \u001b[39m# Set as ordinary property\u001b[39;00m\n\u001b[0;32m-> <a href='file:///Users/giuliacrocioni/miniforge3/envs/dianna_new/lib/python3.9/site-packages/plotly/basedatatypes.py?line=5828'>5829</a>\u001b[0m     \u001b[39msuper\u001b[39;49m(BaseLayoutHierarchyType, \u001b[39mself\u001b[39;49m)\u001b[39m.\u001b[39;49m\u001b[39m__setitem__\u001b[39;49m(prop, value)\n\u001b[1;32m   <a href='file:///Users/giuliacrocioni/miniforge3/envs/dianna_new/lib/python3.9/site-packages/plotly/basedatatypes.py?line=5829'>5830</a>\u001b[0m \u001b[39melse\u001b[39;00m:\n\u001b[1;32m   <a href='file:///Users/giuliacrocioni/miniforge3/envs/dianna_new/lib/python3.9/site-packages/plotly/basedatatypes.py?line=5830'>5831</a>\u001b[0m     \u001b[39m# Set as subplotid property\u001b[39;00m\n\u001b[1;32m   <a href='file:///Users/giuliacrocioni/miniforge3/envs/dianna_new/lib/python3.9/site-packages/plotly/basedatatypes.py?line=5831'>5832</a>\u001b[0m     \u001b[39mself\u001b[39m\u001b[39m.\u001b[39m_set_subplotid_prop(prop, value)\n",
      "File \u001b[0;32m~/miniforge3/envs/dianna_new/lib/python3.9/site-packages/plotly/basedatatypes.py:4823\u001b[0m, in \u001b[0;36mBasePlotlyType.__setitem__\u001b[0;34m(self, prop, value)\u001b[0m\n\u001b[1;32m   <a href='file:///Users/giuliacrocioni/miniforge3/envs/dianna_new/lib/python3.9/site-packages/plotly/basedatatypes.py?line=4820'>4821</a>\u001b[0m \u001b[39m# ### Handle compound array property ###\u001b[39;00m\n\u001b[1;32m   <a href='file:///Users/giuliacrocioni/miniforge3/envs/dianna_new/lib/python3.9/site-packages/plotly/basedatatypes.py?line=4821'>4822</a>\u001b[0m \u001b[39melif\u001b[39;00m \u001b[39misinstance\u001b[39m(validator, (CompoundArrayValidator, BaseDataValidator)):\n\u001b[0;32m-> <a href='file:///Users/giuliacrocioni/miniforge3/envs/dianna_new/lib/python3.9/site-packages/plotly/basedatatypes.py?line=4822'>4823</a>\u001b[0m     \u001b[39mself\u001b[39;49m\u001b[39m.\u001b[39;49m_set_array_prop(prop, value)\n\u001b[1;32m   <a href='file:///Users/giuliacrocioni/miniforge3/envs/dianna_new/lib/python3.9/site-packages/plotly/basedatatypes.py?line=4824'>4825</a>\u001b[0m \u001b[39m# ### Handle simple property ###\u001b[39;00m\n\u001b[1;32m   <a href='file:///Users/giuliacrocioni/miniforge3/envs/dianna_new/lib/python3.9/site-packages/plotly/basedatatypes.py?line=4825'>4826</a>\u001b[0m \u001b[39melse\u001b[39;00m:\n\u001b[1;32m   <a href='file:///Users/giuliacrocioni/miniforge3/envs/dianna_new/lib/python3.9/site-packages/plotly/basedatatypes.py?line=4826'>4827</a>\u001b[0m     \u001b[39mself\u001b[39m\u001b[39m.\u001b[39m_set_prop(prop, value)\n",
      "File \u001b[0;32m~/miniforge3/envs/dianna_new/lib/python3.9/site-packages/plotly/basedatatypes.py:5304\u001b[0m, in \u001b[0;36mBasePlotlyType._set_array_prop\u001b[0;34m(self, prop, val)\u001b[0m\n\u001b[1;32m   <a href='file:///Users/giuliacrocioni/miniforge3/envs/dianna_new/lib/python3.9/site-packages/plotly/basedatatypes.py?line=5300'>5301</a>\u001b[0m \u001b[39m# Import value\u001b[39;00m\n\u001b[1;32m   <a href='file:///Users/giuliacrocioni/miniforge3/envs/dianna_new/lib/python3.9/site-packages/plotly/basedatatypes.py?line=5301'>5302</a>\u001b[0m \u001b[39m# ------------\u001b[39;00m\n\u001b[1;32m   <a href='file:///Users/giuliacrocioni/miniforge3/envs/dianna_new/lib/python3.9/site-packages/plotly/basedatatypes.py?line=5302'>5303</a>\u001b[0m validator \u001b[39m=\u001b[39m \u001b[39mself\u001b[39m\u001b[39m.\u001b[39m_get_validator(prop)\n\u001b[0;32m-> <a href='file:///Users/giuliacrocioni/miniforge3/envs/dianna_new/lib/python3.9/site-packages/plotly/basedatatypes.py?line=5303'>5304</a>\u001b[0m val \u001b[39m=\u001b[39m validator\u001b[39m.\u001b[39;49mvalidate_coerce(val, skip_invalid\u001b[39m=\u001b[39;49m\u001b[39mself\u001b[39;49m\u001b[39m.\u001b[39;49m_skip_invalid)\n\u001b[1;32m   <a href='file:///Users/giuliacrocioni/miniforge3/envs/dianna_new/lib/python3.9/site-packages/plotly/basedatatypes.py?line=5305'>5306</a>\u001b[0m \u001b[39m# Save deep copies of current and new states\u001b[39;00m\n\u001b[1;32m   <a href='file:///Users/giuliacrocioni/miniforge3/envs/dianna_new/lib/python3.9/site-packages/plotly/basedatatypes.py?line=5306'>5307</a>\u001b[0m \u001b[39m# ------------------------------------------\u001b[39;00m\n\u001b[1;32m   <a href='file:///Users/giuliacrocioni/miniforge3/envs/dianna_new/lib/python3.9/site-packages/plotly/basedatatypes.py?line=5307'>5308</a>\u001b[0m curr_val \u001b[39m=\u001b[39m \u001b[39mself\u001b[39m\u001b[39m.\u001b[39m_compound_array_props\u001b[39m.\u001b[39mget(prop, \u001b[39mNone\u001b[39;00m)\n",
      "File \u001b[0;32m~/miniforge3/envs/dianna_new/lib/python3.9/site-packages/_plotly_utils/basevalidators.py:2568\u001b[0m, in \u001b[0;36mCompoundArrayValidator.validate_coerce\u001b[0;34m(self, v, skip_invalid)\u001b[0m\n\u001b[1;32m   <a href='file:///Users/giuliacrocioni/miniforge3/envs/dianna_new/lib/python3.9/site-packages/_plotly_utils/basevalidators.py?line=2564'>2565</a>\u001b[0m                 invalid_els\u001b[39m.\u001b[39mappend(v_el)\n\u001b[1;32m   <a href='file:///Users/giuliacrocioni/miniforge3/envs/dianna_new/lib/python3.9/site-packages/_plotly_utils/basevalidators.py?line=2566'>2567</a>\u001b[0m     \u001b[39mif\u001b[39;00m invalid_els:\n\u001b[0;32m-> <a href='file:///Users/giuliacrocioni/miniforge3/envs/dianna_new/lib/python3.9/site-packages/_plotly_utils/basevalidators.py?line=2567'>2568</a>\u001b[0m         \u001b[39mself\u001b[39;49m\u001b[39m.\u001b[39;49mraise_invalid_elements(invalid_els)\n\u001b[1;32m   <a href='file:///Users/giuliacrocioni/miniforge3/envs/dianna_new/lib/python3.9/site-packages/_plotly_utils/basevalidators.py?line=2569'>2570</a>\u001b[0m     v \u001b[39m=\u001b[39m to_scalar_or_list(res)\n\u001b[1;32m   <a href='file:///Users/giuliacrocioni/miniforge3/envs/dianna_new/lib/python3.9/site-packages/_plotly_utils/basevalidators.py?line=2570'>2571</a>\u001b[0m \u001b[39melse\u001b[39;00m:\n",
      "File \u001b[0;32m~/miniforge3/envs/dianna_new/lib/python3.9/site-packages/_plotly_utils/basevalidators.py:305\u001b[0m, in \u001b[0;36mBaseValidator.raise_invalid_elements\u001b[0;34m(self, invalid_els)\u001b[0m\n\u001b[1;32m    <a href='file:///Users/giuliacrocioni/miniforge3/envs/dianna_new/lib/python3.9/site-packages/_plotly_utils/basevalidators.py?line=302'>303</a>\u001b[0m     \u001b[39mdef\u001b[39;00m \u001b[39mraise_invalid_elements\u001b[39m(\u001b[39mself\u001b[39m, invalid_els):\n\u001b[1;32m    <a href='file:///Users/giuliacrocioni/miniforge3/envs/dianna_new/lib/python3.9/site-packages/_plotly_utils/basevalidators.py?line=303'>304</a>\u001b[0m         \u001b[39mif\u001b[39;00m invalid_els:\n\u001b[0;32m--> <a href='file:///Users/giuliacrocioni/miniforge3/envs/dianna_new/lib/python3.9/site-packages/_plotly_utils/basevalidators.py?line=304'>305</a>\u001b[0m             \u001b[39mraise\u001b[39;00m \u001b[39mValueError\u001b[39;00m(\n\u001b[1;32m    <a href='file:///Users/giuliacrocioni/miniforge3/envs/dianna_new/lib/python3.9/site-packages/_plotly_utils/basevalidators.py?line=305'>306</a>\u001b[0m                 \u001b[39m\"\"\"\u001b[39;00m\n\u001b[1;32m    <a href='file:///Users/giuliacrocioni/miniforge3/envs/dianna_new/lib/python3.9/site-packages/_plotly_utils/basevalidators.py?line=306'>307</a>\u001b[0m \u001b[39m    Invalid element(s) received for the '{name}' property of {pname}\u001b[39;00m\n\u001b[1;32m    <a href='file:///Users/giuliacrocioni/miniforge3/envs/dianna_new/lib/python3.9/site-packages/_plotly_utils/basevalidators.py?line=307'>308</a>\u001b[0m \u001b[39m        Invalid elements include: {invalid}\u001b[39;00m\n\u001b[1;32m    <a href='file:///Users/giuliacrocioni/miniforge3/envs/dianna_new/lib/python3.9/site-packages/_plotly_utils/basevalidators.py?line=308'>309</a>\u001b[0m \n\u001b[1;32m    <a href='file:///Users/giuliacrocioni/miniforge3/envs/dianna_new/lib/python3.9/site-packages/_plotly_utils/basevalidators.py?line=309'>310</a>\u001b[0m \u001b[39m{valid_clr_desc}\"\"\"\u001b[39;00m\u001b[39m.\u001b[39mformat(\n\u001b[1;32m    <a href='file:///Users/giuliacrocioni/miniforge3/envs/dianna_new/lib/python3.9/site-packages/_plotly_utils/basevalidators.py?line=310'>311</a>\u001b[0m                     name\u001b[39m=\u001b[39m\u001b[39mself\u001b[39m\u001b[39m.\u001b[39mplotly_name,\n\u001b[1;32m    <a href='file:///Users/giuliacrocioni/miniforge3/envs/dianna_new/lib/python3.9/site-packages/_plotly_utils/basevalidators.py?line=311'>312</a>\u001b[0m                     pname\u001b[39m=\u001b[39m\u001b[39mself\u001b[39m\u001b[39m.\u001b[39mparent_name,\n\u001b[1;32m    <a href='file:///Users/giuliacrocioni/miniforge3/envs/dianna_new/lib/python3.9/site-packages/_plotly_utils/basevalidators.py?line=312'>313</a>\u001b[0m                     invalid\u001b[39m=\u001b[39minvalid_els[:\u001b[39m10\u001b[39m],\n\u001b[1;32m    <a href='file:///Users/giuliacrocioni/miniforge3/envs/dianna_new/lib/python3.9/site-packages/_plotly_utils/basevalidators.py?line=313'>314</a>\u001b[0m                     valid_clr_desc\u001b[39m=\u001b[39m\u001b[39mself\u001b[39m\u001b[39m.\u001b[39mdescription(),\n\u001b[1;32m    <a href='file:///Users/giuliacrocioni/miniforge3/envs/dianna_new/lib/python3.9/site-packages/_plotly_utils/basevalidators.py?line=314'>315</a>\u001b[0m                 )\n\u001b[1;32m    <a href='file:///Users/giuliacrocioni/miniforge3/envs/dianna_new/lib/python3.9/site-packages/_plotly_utils/basevalidators.py?line=315'>316</a>\u001b[0m             )\n",
      "\u001b[0;31mValueError\u001b[0m: \n    Invalid element(s) received for the 'annotations' property of layout\n        Invalid elements include: ['bla']\n\n    The 'annotations' property is a tuple of instances of\n    Annotation that may be specified as:\n      - A list or tuple of instances of plotly.graph_objs.layout.Annotation\n      - A list or tuple of dicts of string/value properties that\n        will be passed to the Annotation constructor\n\n        Supported dict properties:\n            \n            align\n                Sets the horizontal alignment of the `text`\n                within the box. Has an effect only if `text`\n                spans two or more lines (i.e. `text` contains\n                one or more <br> HTML tags) or if an explicit\n                width is set to override the text width.\n            arrowcolor\n                Sets the color of the annotation arrow.\n            arrowhead\n                Sets the end annotation arrow head style.\n            arrowside\n                Sets the annotation arrow head position.\n            arrowsize\n                Sets the size of the end annotation arrow head,\n                relative to `arrowwidth`. A value of 1\n                (default) gives a head about 3x as wide as the\n                line.\n            arrowwidth\n                Sets the width (in px) of annotation arrow\n                line.\n            ax\n                Sets the x component of the arrow tail about\n                the arrow head. If `axref` is `pixel`, a\n                positive (negative) component corresponds to an\n                arrow pointing from right to left (left to\n                right). If `axref` is not `pixel` and is\n                exactly the same as `xref`, this is an absolute\n                value on that axis, like `x`, specified in the\n                same coordinates as `xref`.\n            axref\n                Indicates in what coordinates the tail of the\n                annotation (ax,ay) is specified. If set to a ax\n                axis id (e.g. \"ax\" or \"ax2\"), the `ax` position\n                refers to a ax coordinate. If set to \"paper\",\n                the `ax` position refers to the distance from\n                the left of the plotting area in normalized\n                coordinates where 0 (1) corresponds to the left\n                (right). If set to a ax axis ID followed by\n                \"domain\" (separated by a space), the position\n                behaves like for \"paper\", but refers to the\n                distance in fractions of the domain length from\n                the left of the domain of that axis: e.g., *ax2\n                domain* refers to the domain of the second ax\n                axis and a ax position of 0.5 refers to the\n                point between the left and the right of the\n                domain of the second ax axis. In order for\n                absolute positioning of the arrow to work,\n                \"axref\" must be exactly the same as \"xref\",\n                otherwise \"axref\" will revert to \"pixel\"\n                (explained next). For relative positioning,\n                \"axref\" can be set to \"pixel\", in which case\n                the \"ax\" value is specified in pixels relative\n                to \"x\". Absolute positioning is useful for\n                trendline annotations which should continue to\n                indicate the correct trend when zoomed.\n                Relative positioning is useful for specifying\n                the text offset for an annotated point.\n            ay\n                Sets the y component of the arrow tail about\n                the arrow head. If `ayref` is `pixel`, a\n                positive (negative) component corresponds to an\n                arrow pointing from bottom to top (top to\n                bottom). If `ayref` is not `pixel` and is\n                exactly the same as `yref`, this is an absolute\n                value on that axis, like `y`, specified in the\n                same coordinates as `yref`.\n            ayref\n                Indicates in what coordinates the tail of the\n                annotation (ax,ay) is specified. If set to a ay\n                axis id (e.g. \"ay\" or \"ay2\"), the `ay` position\n                refers to a ay coordinate. If set to \"paper\",\n                the `ay` position refers to the distance from\n                the bottom of the plotting area in normalized\n                coordinates where 0 (1) corresponds to the\n                bottom (top). If set to a ay axis ID followed\n                by \"domain\" (separated by a space), the\n                position behaves like for \"paper\", but refers\n                to the distance in fractions of the domain\n                length from the bottom of the domain of that\n                axis: e.g., *ay2 domain* refers to the domain\n                of the second ay  axis and a ay position of 0.5\n                refers to the point between the bottom and the\n                top of the domain of the second ay axis. In\n                order for absolute positioning of the arrow to\n                work, \"ayref\" must be exactly the same as\n                \"yref\", otherwise \"ayref\" will revert to\n                \"pixel\" (explained next). For relative\n                positioning, \"ayref\" can be set to \"pixel\", in\n                which case the \"ay\" value is specified in\n                pixels relative to \"y\". Absolute positioning is\n                useful for trendline annotations which should\n                continue to indicate the correct trend when\n                zoomed. Relative positioning is useful for\n                specifying the text offset for an annotated\n                point.\n            bgcolor\n                Sets the background color of the annotation.\n            bordercolor\n                Sets the color of the border enclosing the\n                annotation `text`.\n            borderpad\n                Sets the padding (in px) between the `text` and\n                the enclosing border.\n            borderwidth\n                Sets the width (in px) of the border enclosing\n                the annotation `text`.\n            captureevents\n                Determines whether the annotation text box\n                captures mouse move and click events, or allows\n                those events to pass through to data points in\n                the plot that may be behind the annotation. By\n                default `captureevents` is False unless\n                `hovertext` is provided. If you use the event\n                `plotly_clickannotation` without `hovertext`\n                you must explicitly enable `captureevents`.\n            clicktoshow\n                Makes this annotation respond to clicks on the\n                plot. If you click a data point that exactly\n                matches the `x` and `y` values of this\n                annotation, and it is hidden (visible: false),\n                it will appear. In \"onoff\" mode, you must click\n                the same point again to make it disappear, so\n                if you click multiple points, you can show\n                multiple annotations. In \"onout\" mode, a click\n                anywhere else in the plot (on another data\n                point or not) will hide this annotation. If you\n                need to show/hide this annotation in response\n                to different `x` or `y` values, you can set\n                `xclick` and/or `yclick`. This is useful for\n                example to label the side of a bar. To label\n                markers though, `standoff` is preferred over\n                `xclick` and `yclick`.\n            font\n                Sets the annotation text font.\n            height\n                Sets an explicit height for the text box. null\n                (default) lets the text set the box height.\n                Taller text will be clipped.\n            hoverlabel\n                :class:`plotly.graph_objects.layout.annotation.\n                Hoverlabel` instance or dict with compatible\n                properties\n            hovertext\n                Sets text to appear when hovering over this\n                annotation. If omitted or blank, no hover label\n                will appear.\n            name\n                When used in a template, named items are\n                created in the output figure in addition to any\n                items the figure already has in this array. You\n                can modify these items in the output figure by\n                making your own item with `templateitemname`\n                matching this `name` alongside your\n                modifications (including `visible: false` or\n                `enabled: false` to hide it). Has no effect\n                outside of a template.\n            opacity\n                Sets the opacity of the annotation (text +\n                arrow).\n            showarrow\n                Determines whether or not the annotation is\n                drawn with an arrow. If True, `text` is placed\n                near the arrow's tail. If False, `text` lines\n                up with the `x` and `y` provided.\n            standoff\n                Sets a distance, in pixels, to move the end\n                arrowhead away from the position it is pointing\n                at, for example to point at the edge of a\n                marker independent of zoom. Note that this\n                shortens the arrow from the `ax` / `ay` vector,\n                in contrast to `xshift` / `yshift` which moves\n                everything by this amount.\n            startarrowhead\n                Sets the start annotation arrow head style.\n            startarrowsize\n                Sets the size of the start annotation arrow\n                head, relative to `arrowwidth`. A value of 1\n                (default) gives a head about 3x as wide as the\n                line.\n            startstandoff\n                Sets a distance, in pixels, to move the start\n                arrowhead away from the position it is pointing\n                at, for example to point at the edge of a\n                marker independent of zoom. Note that this\n                shortens the arrow from the `ax` / `ay` vector,\n                in contrast to `xshift` / `yshift` which moves\n                everything by this amount.\n            templateitemname\n                Used to refer to a named item in this array in\n                the template. Named items from the template\n                will be created even without a matching item in\n                the input figure, but you can modify one by\n                making an item with `templateitemname` matching\n                its `name`, alongside your modifications\n                (including `visible: false` or `enabled: false`\n                to hide it). If there is no template or no\n                matching item, this item will be hidden unless\n                you explicitly show it with `visible: true`.\n            text\n                Sets the text associated with this annotation.\n                Plotly uses a subset of HTML tags to do things\n                like newline (<br>), bold (<b></b>), italics\n                (<i></i>), hyperlinks (<a href='...'></a>).\n                Tags <em>, <sup>, <sub> <span> are also\n                supported.\n            textangle\n                Sets the angle at which the `text` is drawn\n                with respect to the horizontal.\n            valign\n                Sets the vertical alignment of the `text`\n                within the box. Has an effect only if an\n                explicit height is set to override the text\n                height.\n            visible\n                Determines whether or not this annotation is\n                visible.\n            width\n                Sets an explicit width for the text box. null\n                (default) lets the text set the box width.\n                Wider text will be clipped. There is no\n                automatic wrapping; use <br> to start a new\n                line.\n            x\n                Sets the annotation's x position. If the axis\n                `type` is \"log\", then you must take the log of\n                your desired range. If the axis `type` is\n                \"date\", it should be date strings, like date\n                data, though Date objects and unix milliseconds\n                will be accepted and converted to strings. If\n                the axis `type` is \"category\", it should be\n                numbers, using the scale where each category is\n                assigned a serial number from zero in the order\n                it appears.\n            xanchor\n                Sets the text box's horizontal position anchor\n                This anchor binds the `x` position to the\n                \"left\", \"center\" or \"right\" of the annotation.\n                For example, if `x` is set to 1, `xref` to\n                \"paper\" and `xanchor` to \"right\" then the\n                right-most portion of the annotation lines up\n                with the right-most edge of the plotting area.\n                If \"auto\", the anchor is equivalent to \"center\"\n                for data-referenced annotations or if there is\n                an arrow, whereas for paper-referenced with no\n                arrow, the anchor picked corresponds to the\n                closest side.\n            xclick\n                Toggle this annotation when clicking a data\n                point whose `x` value is `xclick` rather than\n                the annotation's `x` value.\n            xref\n                Sets the annotation's x coordinate axis. If set\n                to a x axis id (e.g. \"x\" or \"x2\"), the `x`\n                position refers to a x coordinate. If set to\n                \"paper\", the `x` position refers to the\n                distance from the left of the plotting area in\n                normalized coordinates where 0 (1) corresponds\n                to the left (right). If set to a x axis ID\n                followed by \"domain\" (separated by a space),\n                the position behaves like for \"paper\", but\n                refers to the distance in fractions of the\n                domain length from the left of the domain of\n                that axis: e.g., *x2 domain* refers to the\n                domain of the second x  axis and a x position\n                of 0.5 refers to the point between the left and\n                the right of the domain of the second x axis.\n            xshift\n                Shifts the position of the whole annotation and\n                arrow to the right (positive) or left\n                (negative) by this many pixels.\n            y\n                Sets the annotation's y position. If the axis\n                `type` is \"log\", then you must take the log of\n                your desired range. If the axis `type` is\n                \"date\", it should be date strings, like date\n                data, though Date objects and unix milliseconds\n                will be accepted and converted to strings. If\n                the axis `type` is \"category\", it should be\n                numbers, using the scale where each category is\n                assigned a serial number from zero in the order\n                it appears.\n            yanchor\n                Sets the text box's vertical position anchor\n                This anchor binds the `y` position to the\n                \"top\", \"middle\" or \"bottom\" of the annotation.\n                For example, if `y` is set to 1, `yref` to\n                \"paper\" and `yanchor` to \"top\" then the top-\n                most portion of the annotation lines up with\n                the top-most edge of the plotting area. If\n                \"auto\", the anchor is equivalent to \"middle\"\n                for data-referenced annotations or if there is\n                an arrow, whereas for paper-referenced with no\n                arrow, the anchor picked corresponds to the\n                closest side.\n            yclick\n                Toggle this annotation when clicking a data\n                point whose `y` value is `yclick` rather than\n                the annotation's `y` value.\n            yref\n                Sets the annotation's y coordinate axis. If set\n                to a y axis id (e.g. \"y\" or \"y2\"), the `y`\n                position refers to a y coordinate. If set to\n                \"paper\", the `y` position refers to the\n                distance from the bottom of the plotting area\n                in normalized coordinates where 0 (1)\n                corresponds to the bottom (top). If set to a y\n                axis ID followed by \"domain\" (separated by a\n                space), the position behaves like for \"paper\",\n                but refers to the distance in fractions of the\n                domain length from the bottom of the domain of\n                that axis: e.g., *y2 domain* refers to the\n                domain of the second y  axis and a y position\n                of 0.5 refers to the point between the bottom\n                and the top of the domain of the second y axis.\n            yshift\n                Shifts the position of the whole annotation and\n                arrow up (positive) or down (negative) by this\n                many pixels.\n"
     ]
    }
   ],
   "source": [
    "fig = go.Figure()\n",
    "\n",
    "#fig.add_trace(go.Heatmap(z=X_test[:,:,0], colorscale='gray', showscale=False))\n",
    "\n",
    "fig.update_layout(\n",
    "    paper_bgcolor='#E4F3F9',\n",
    "    plot_bgcolor = '#E4F3F9')\n",
    "\n",
    "fig.update_layout(\n",
    "    annotations = [\n",
    "                {   \n",
    "                    \"text\": \"Please select v and m\",\n",
    "                    \"xref\": \"paper\",\n",
    "                    \"yref\": \"paper\",\n",
    "                    \"showarrow\": False,\n",
    "                    \"font\": {\n",
    "                        \"size\": 28\n",
    "                    }\n",
    "                }\n",
    "            ],\n",
    "    width=300,\n",
    "    height=300)\n",
    "\n",
    "fig.update_xaxes(showgrid = False, showticklabels = False, zeroline=False)\n",
    "fig.update_yaxes(showgrid = False, showticklabels = False, zeroline=False)\n",
    "\n",
    "fig.show()"
   ]
  },
  {
   "cell_type": "markdown",
   "id": "7cf6d4ba",
   "metadata": {},
   "source": [
    "#### 2 - Compute and visualize the relevance attributions\n",
    "Compute the relevance attributions using RISE and visualize them overlayed on the image. "
   ]
  },
  {
   "cell_type": "markdown",
   "id": "e37c65f3",
   "metadata": {},
   "source": [
    "RISE masks random portions of the input image and passes the masked image through the model — the portion that decreases the accuracy the most is the most “important” portion.<br>\n",
    "To call the explainer and generate the relevance scores, the user need to specified the number of masks being randomly generated (`n_masks`), the resolution of features in masks (`feature_res`) and for each mask and each feature in the image, the probability of being kept unmasked (`p_keep`)."
   ]
  },
  {
   "cell_type": "code",
   "execution_count": 5,
   "id": "bacterial-shakespeare",
   "metadata": {},
   "outputs": [
    {
     "name": "stderr",
     "output_type": "stream",
     "text": [
      "Explaining: 100%|██████████| 50/50 [00:00<00:00, 140.13it/s]\n"
     ]
    }
   ],
   "source": [
    "relevances = dianna.explain_image(run_model, X_test[i_instance], method=\"RISE\",\n",
    "                                labels=[i for i in range(2)],\n",
    "                                n_masks=5000, feature_res=8, p_keep=.1,\n",
    "                                axis_labels=('channels','height','width'))"
   ]
  },
  {
   "cell_type": "markdown",
   "id": "58160a33",
   "metadata": {},
   "source": [
    "Visualize the relevance scores for the predicted class on top of the image."
   ]
  },
  {
   "cell_type": "code",
   "execution_count": 6,
   "id": "intimate-operations",
   "metadata": {},
   "outputs": [
    {
     "name": "stdout",
     "output_type": "stream",
     "text": [
      "Explanation for `digit 0`\n"
     ]
    },
    {
     "data": {
      "image/png": "[encoded data removed]",
      "text/plain": [
       "<Figure size 432x288 with 1 Axes>"
      ]
     },
     "metadata": {
      "needs_background": "light"
     },
     "output_type": "display_data"
    }
   ],
   "source": [
    "print(f'Explanation for `{pred_class}`')\n",
    "visualization.plot_image(relevances[0], X_test[i_instance][0], data_cmap='gray', heatmap_cmap='bwr')"
   ]
  },
  {
   "cell_type": "markdown",
   "id": "aaa624ba-55f5-4d91-b90e-551b5f004bcf",
   "metadata": {},
   "source": [
    "#### 3 - Conclusions\n",
    "The relevance scores are generated by passing multiple randomly masked inputs to the black-box model and averaging their pixel relevances. The idea behind this is that whenever a mask preserves important parts of the image it gets higher score. <br>\n",
    "\n",
    "The example here shows that the RISE method evaluates the relevance of each pixel/super pixel to the classification and highlights the lateral parts of the digit zero. This implies that the model determines whether the digit is 0 by checking the lateral parts. The results are reasonable compared to the human visual preception of the test image."
   ]
  }
 ],
 "metadata": {
  "kernelspec": {
   "display_name": "Python 3 (ipykernel)",
   "language": "python",
   "name": "python3"
  },
  "language_info": {
   "codemirror_mode": {
    "name": "ipython",
    "version": 3
   },
   "file_extension": ".py",
   "mimetype": "text/x-python",
   "name": "python",
   "nbconvert_exporter": "python",
   "pygments_lexer": "ipython3",
   "version": "3.9.10"
  }
 },
 "nbformat": 4,
 "nbformat_minor": 5
}
