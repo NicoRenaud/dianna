{
 "cells": [
  {
   "cell_type": "markdown",
   "id": "hispanic-instrumentation",
   "metadata": {},
   "source": [
    "### Model Interpretation for Binary MNIST Model using RISE\n",
    "\n",
    "This notebook demonstrates how to apply RISE algorithms on pretrained binary MNIST model using a hand-written digit image and visualizes the attributions for each pixel/super-pixel by displaying them on the image.<br>\n",
    "\n",
    "RISE is short for Randomized Input Sampling for Explanation of Black-box Models. It estimates importance empirically by probing the model with randomly masked versions of the input image and obtaining the corresponding outputs.<br>\n",
    "\n",
    "More details about this method can be found in the paper https://arxiv.org/abs/1806.07421.<br>"
   ]
  },
  {
   "cell_type": "code",
   "execution_count": 1,
   "id": "instructional-threshold",
   "metadata": {},
   "outputs": [],
   "source": [
    "import warnings\n",
    "warnings.filterwarnings('ignore') # disable warnings relateds to versions of tf\n",
    "import dianna\n",
    "import onnxruntime\n",
    "import numpy as np\n",
    "%matplotlib inline\n",
    "from matplotlib import pyplot as plt\n",
    "from scipy.special import softmax\n",
    "from dianna import visualization"
   ]
  },
  {
   "cell_type": "markdown",
   "id": "4230e223",
   "metadata": {},
   "source": [
    "#### 1 - Loading the model and the dataset\n",
    "Loads pretrained binary MNIST model and the image to be explained."
   ]
  },
  {
   "cell_type": "markdown",
   "id": "33021625",
   "metadata": {},
   "source": [
    "Load saved binary MNIST data."
   ]
  },
  {
   "cell_type": "code",
   "execution_count": 2,
   "id": "configured-drill",
   "metadata": {},
   "outputs": [],
   "source": [
    "# load dataset\n",
    "data = np.load('./data/binary-mnist.npz')\n",
    "# load testing data and the related labels\n",
    "X_test = data['X_test'].astype(np.float32).reshape([-1, 1, 28, 28])\n",
    "y_test = data['y_test']\n",
    "# define axis labels for the testing data\n",
    "axis_labels = {0: 'batch', 1: 'channels'}"
   ]
  },
  {
   "cell_type": "markdown",
   "id": "worst-gregory",
   "metadata": {},
   "source": [
    "Load the pretrained binary MNIST model and define a model runner."
   ]
  },
  {
   "cell_type": "code",
   "execution_count": 3,
   "id": "polar-placement",
   "metadata": {},
   "outputs": [],
   "source": [
    "def run_model(data):\n",
    "    fname = './models/mnist_model.onnx'\n",
    "    # get ONNX predictions\n",
    "    sess = onnxruntime.InferenceSession(fname)\n",
    "    input_name = sess.get_inputs()[0].name\n",
    "    output_name = sess.get_outputs()[0].name\n",
    "    \n",
    "    onnx_input = {input_name: data}\n",
    "    pred_onnx = sess.run([output_name], onnx_input)\n",
    "    \n",
    "    return softmax(pred_onnx[0], axis=1)\n",
    "\n",
    "pred_onnx = run_model(X_test)"
   ]
  },
  {
   "cell_type": "markdown",
   "id": "renewable-twelve",
   "metadata": {},
   "source": [
    "Print class and image of a single instance in the test data for preview."
   ]
  },
  {
   "cell_type": "code",
   "execution_count": 14,
   "id": "normal-wallet",
   "metadata": {},
   "outputs": [
    {
     "name": "stdout",
     "output_type": "stream",
     "text": [
      "The predicted class is: digit 0\n"
     ]
    },
    {
     "data": {
      "text/plain": [
       "<matplotlib.image.AxesImage at 0x7f6ffaaf6a60>"
      ]
     },
     "execution_count": 14,
     "metadata": {},
     "output_type": "execute_result"
    },
    {
     "data": {
      "image/png": "[encoded data removed]",
      "text/plain": [
       "<Figure size 432x288 with 1 Axes>"
      ]
     },
     "metadata": {
      "needs_background": "light"
     },
     "output_type": "display_data"
    }
   ],
   "source": [
    "# class name\n",
    "class_name = ['digit 0', 'digit 1']\n",
    "# instance index\n",
    "i_instance = 3\n",
    "# predicted class\n",
    "pred_class = class_name[np.argmax(pred_onnx[i_instance])]\n",
    "print(\"The predicted class is:\", pred_class)\n",
    "plt.imshow(X_test[i_instance][0])  # 0 for channel"
   ]
  },
  {
   "cell_type": "markdown",
   "id": "7cf6d4ba",
   "metadata": {},
   "source": [
    "#### 2 - Compute attributions and visualize the saliency\n",
    "Compute attributions using RISE and visualize the saliency on the image. "
   ]
  },
  {
   "cell_type": "markdown",
   "id": "e37c65f3",
   "metadata": {},
   "source": [
    "RISE masks random portions of the input image and passes this image through the model — the mask that damages accuracy the most is the most “important” portion.<br>\n",
    "To call the explainer and generate saliency map, the user need to specified the number of masks being randomly generated (`n_masks`), the resolution of features in masks (`feature_res`) and the fraction of image to keep in each mask (`p_keep`)."
   ]
  },
  {
   "cell_type": "code",
   "execution_count": 12,
   "id": "bacterial-shakespeare",
   "metadata": {},
   "outputs": [
    {
     "name": "stderr",
     "output_type": "stream",
     "text": [
      "Explaining: 100%|██████████| 50/50 [00:00<00:00, 125.30it/s]\n"
     ]
    }
   ],
   "source": [
    "heatmaps = dianna.explain_image(run_model, X_test[[i_instance]], method=\"RISE\",\n",
    "                                labels=[i for i in range(2)],\n",
    "                                n_masks=5000, feature_res=8, p_keep=.1,\n",
    "                                axes_labels=('batch','channels','height','width'))"
   ]
  },
  {
   "cell_type": "markdown",
   "id": "58160a33",
   "metadata": {},
   "source": [
    "Visualize the saliency map on the image for the predicted class."
   ]
  },
  {
   "cell_type": "code",
   "execution_count": 15,
   "id": "intimate-operations",
   "metadata": {},
   "outputs": [
    {
     "name": "stdout",
     "output_type": "stream",
     "text": [
      "Explanation for `digit 0`\n"
     ]
    },
    {
     "data": {
      "image/png": "[encoded data removed]",
      "text/plain": [
       "<Figure size 432x288 with 1 Axes>"
      ]
     },
     "metadata": {
      "needs_background": "light"
     },
     "output_type": "display_data"
    }
   ],
   "source": [
    "print(f'Explanation for `{pred_class}`')\n",
    "visualization.plot_image(heatmaps[0], X_test[i_instance][0], data_cmap='gray', heatmap_cmap='bwr')"
   ]
  },
  {
   "cell_type": "markdown",
   "id": "aaa624ba-55f5-4d91-b90e-551b5f004bcf",
   "metadata": {},
   "source": [
    "#### 3 - Conclusions\n",
    "These saliency maps are generated by passing multiple randomly masked input to the black-box model and averaging their importance scores. The idea behind this is that whenever a mask preserves important parts of the image it gets higher score. <br>\n",
    "\n",
    "The example here shows that the RISE method evaluates the importance of each pixel/super pixel to the classification and the results are reasonable based on human visual preception of the testing image."
   ]
  }
 ],
 "metadata": {
  "kernelspec": {
   "display_name": "Python 3 (ipykernel)",
   "language": "python",
   "name": "python3"
  },
  "language_info": {
   "codemirror_mode": {
    "name": "ipython",
    "version": 3
   },
   "file_extension": ".py",
   "mimetype": "text/x-python",
   "name": "python",
   "nbconvert_exporter": "python",
   "pygments_lexer": "ipython3",
   "version": "3.8.5"
  }
 },
 "nbformat": 4,
 "nbformat_minor": 5
}
